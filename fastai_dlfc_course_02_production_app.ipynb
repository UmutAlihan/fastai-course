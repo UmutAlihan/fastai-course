{
  "nbformat": 4,
  "nbformat_minor": 0,
  "metadata": {
    "colab": {
      "name": "fastai_dlfc_course_02_production_app.ipynb",
      "provenance": [],
      "collapsed_sections": []
    },
    "kernelspec": {
      "name": "python3",
      "display_name": "Python 3"
    },
    "widgets": {
      "application/vnd.jupyter.widget-state+json": {
        "ecad8d21d0aa45878bf2888c84551278": {
          "model_module": "@jupyter-widgets/controls",
          "model_name": "VBoxModel",
          "state": {
            "_view_name": "VBoxView",
            "_dom_classes": [],
            "_model_name": "VBoxModel",
            "_view_module": "@jupyter-widgets/controls",
            "_model_module_version": "1.5.0",
            "_view_count": null,
            "_view_module_version": "1.5.0",
            "box_style": "",
            "layout": "IPY_MODEL_3a8de69d580d46818f4f227f5ff6f9b1",
            "_model_module": "@jupyter-widgets/controls",
            "children": [
              "IPY_MODEL_dae5993006ec4733b70008c106c9be09",
              "IPY_MODEL_4115ac01df0345018deb87eb21ca6737",
              "IPY_MODEL_9b7984aa71d64b719c1ed78b9f552772",
              "IPY_MODEL_659e402a056943c59e614ca1296a9a8a"
            ]
          }
        },
        "3a8de69d580d46818f4f227f5ff6f9b1": {
          "model_module": "@jupyter-widgets/base",
          "model_name": "LayoutModel",
          "state": {
            "_view_name": "LayoutView",
            "grid_template_rows": null,
            "right": null,
            "justify_content": null,
            "_view_module": "@jupyter-widgets/base",
            "overflow": null,
            "_model_module_version": "1.2.0",
            "_view_count": null,
            "flex_flow": null,
            "width": null,
            "min_width": null,
            "border": null,
            "align_items": null,
            "bottom": null,
            "_model_module": "@jupyter-widgets/base",
            "top": null,
            "grid_column": null,
            "overflow_y": null,
            "overflow_x": null,
            "grid_auto_flow": null,
            "grid_area": null,
            "grid_template_columns": null,
            "flex": null,
            "_model_name": "LayoutModel",
            "justify_items": null,
            "grid_row": null,
            "max_height": null,
            "align_content": null,
            "visibility": null,
            "align_self": null,
            "height": null,
            "min_height": null,
            "padding": null,
            "grid_auto_rows": null,
            "grid_gap": null,
            "max_width": null,
            "order": null,
            "_view_module_version": "1.2.0",
            "grid_template_areas": null,
            "object_position": null,
            "object_fit": null,
            "grid_auto_columns": null,
            "margin": null,
            "display": null,
            "left": null
          }
        },
        "dae5993006ec4733b70008c106c9be09": {
          "model_module": "@jupyter-widgets/controls",
          "model_name": "LabelModel",
          "state": {
            "_view_name": "LabelView",
            "style": "IPY_MODEL_27c77c9c7c78467990e2065b153dde3c",
            "_dom_classes": [],
            "description": "",
            "_model_name": "LabelModel",
            "placeholder": "​",
            "_view_module": "@jupyter-widgets/controls",
            "_model_module_version": "1.5.0",
            "value": "Select your bear!",
            "_view_count": null,
            "_view_module_version": "1.5.0",
            "description_tooltip": null,
            "_model_module": "@jupyter-widgets/controls",
            "layout": "IPY_MODEL_31f14523b369494db3edc811d705ecf2"
          }
        },
        "4115ac01df0345018deb87eb21ca6737": {
          "model_module": "@jupyter-widgets/controls",
          "model_name": "FileUploadModel",
          "state": {
            "_view_name": "FileUploadView",
            "_counter": 0,
            "style": "IPY_MODEL_86af832f3d9e45bd8ee661f2ca99c39a",
            "_dom_classes": [],
            "description": "Upload",
            "multiple": false,
            "_model_name": "FileUploadModel",
            "data": [],
            "button_style": "",
            "_view_module": "@jupyter-widgets/controls",
            "_model_module_version": "1.5.0",
            "accept": "",
            "_view_count": null,
            "disabled": false,
            "_view_module_version": "1.5.0",
            "error": "",
            "description_tooltip": null,
            "metadata": [],
            "_model_module": "@jupyter-widgets/controls",
            "layout": "IPY_MODEL_eed5077956e44268bd82a7e79219e51d",
            "icon": "upload"
          }
        },
        "9b7984aa71d64b719c1ed78b9f552772": {
          "model_module": "@jupyter-widgets/output",
          "model_name": "OutputModel",
          "state": {
            "_view_name": "OutputView",
            "msg_id": "",
            "_dom_classes": [],
            "_model_name": "OutputModel",
            "outputs": [],
            "_view_module": "@jupyter-widgets/output",
            "_model_module_version": "1.0.0",
            "_view_count": null,
            "_view_module_version": "1.0.0",
            "layout": "IPY_MODEL_e854f17703844c67af17f2507d537e15",
            "_model_module": "@jupyter-widgets/output"
          }
        },
        "659e402a056943c59e614ca1296a9a8a": {
          "model_module": "@jupyter-widgets/controls",
          "model_name": "LabelModel",
          "state": {
            "_view_name": "LabelView",
            "style": "IPY_MODEL_450dd752168640dc98fc6dc1adc39f1e",
            "_dom_classes": [],
            "description": "",
            "_model_name": "LabelModel",
            "placeholder": "​",
            "_view_module": "@jupyter-widgets/controls",
            "_model_module_version": "1.5.0",
            "value": "",
            "_view_count": null,
            "_view_module_version": "1.5.0",
            "description_tooltip": null,
            "_model_module": "@jupyter-widgets/controls",
            "layout": "IPY_MODEL_3c23963802bf4ec19437219dbcc9aa50"
          }
        },
        "27c77c9c7c78467990e2065b153dde3c": {
          "model_module": "@jupyter-widgets/controls",
          "model_name": "DescriptionStyleModel",
          "state": {
            "_view_name": "StyleView",
            "_model_name": "DescriptionStyleModel",
            "description_width": "",
            "_view_module": "@jupyter-widgets/base",
            "_model_module_version": "1.5.0",
            "_view_count": null,
            "_view_module_version": "1.2.0",
            "_model_module": "@jupyter-widgets/controls"
          }
        },
        "31f14523b369494db3edc811d705ecf2": {
          "model_module": "@jupyter-widgets/base",
          "model_name": "LayoutModel",
          "state": {
            "_view_name": "LayoutView",
            "grid_template_rows": null,
            "right": null,
            "justify_content": null,
            "_view_module": "@jupyter-widgets/base",
            "overflow": null,
            "_model_module_version": "1.2.0",
            "_view_count": null,
            "flex_flow": null,
            "width": null,
            "min_width": null,
            "border": null,
            "align_items": null,
            "bottom": null,
            "_model_module": "@jupyter-widgets/base",
            "top": null,
            "grid_column": null,
            "overflow_y": null,
            "overflow_x": null,
            "grid_auto_flow": null,
            "grid_area": null,
            "grid_template_columns": null,
            "flex": null,
            "_model_name": "LayoutModel",
            "justify_items": null,
            "grid_row": null,
            "max_height": null,
            "align_content": null,
            "visibility": null,
            "align_self": null,
            "height": null,
            "min_height": null,
            "padding": null,
            "grid_auto_rows": null,
            "grid_gap": null,
            "max_width": null,
            "order": null,
            "_view_module_version": "1.2.0",
            "grid_template_areas": null,
            "object_position": null,
            "object_fit": null,
            "grid_auto_columns": null,
            "margin": null,
            "display": null,
            "left": null
          }
        },
        "86af832f3d9e45bd8ee661f2ca99c39a": {
          "model_module": "@jupyter-widgets/controls",
          "model_name": "ButtonStyleModel",
          "state": {
            "_view_name": "StyleView",
            "_model_name": "ButtonStyleModel",
            "_view_module": "@jupyter-widgets/base",
            "_model_module_version": "1.5.0",
            "_view_count": null,
            "button_color": null,
            "font_weight": "",
            "_view_module_version": "1.2.0",
            "_model_module": "@jupyter-widgets/controls"
          }
        },
        "eed5077956e44268bd82a7e79219e51d": {
          "model_module": "@jupyter-widgets/base",
          "model_name": "LayoutModel",
          "state": {
            "_view_name": "LayoutView",
            "grid_template_rows": null,
            "right": null,
            "justify_content": null,
            "_view_module": "@jupyter-widgets/base",
            "overflow": null,
            "_model_module_version": "1.2.0",
            "_view_count": null,
            "flex_flow": null,
            "width": null,
            "min_width": null,
            "border": null,
            "align_items": null,
            "bottom": null,
            "_model_module": "@jupyter-widgets/base",
            "top": null,
            "grid_column": null,
            "overflow_y": null,
            "overflow_x": null,
            "grid_auto_flow": null,
            "grid_area": null,
            "grid_template_columns": null,
            "flex": null,
            "_model_name": "LayoutModel",
            "justify_items": null,
            "grid_row": null,
            "max_height": null,
            "align_content": null,
            "visibility": null,
            "align_self": null,
            "height": null,
            "min_height": null,
            "padding": null,
            "grid_auto_rows": null,
            "grid_gap": null,
            "max_width": null,
            "order": null,
            "_view_module_version": "1.2.0",
            "grid_template_areas": null,
            "object_position": null,
            "object_fit": null,
            "grid_auto_columns": null,
            "margin": null,
            "display": null,
            "left": null
          }
        },
        "450dd752168640dc98fc6dc1adc39f1e": {
          "model_module": "@jupyter-widgets/controls",
          "model_name": "DescriptionStyleModel",
          "state": {
            "_view_name": "StyleView",
            "_model_name": "DescriptionStyleModel",
            "description_width": "",
            "_view_module": "@jupyter-widgets/base",
            "_model_module_version": "1.5.0",
            "_view_count": null,
            "_view_module_version": "1.2.0",
            "_model_module": "@jupyter-widgets/controls"
          }
        },
        "3c23963802bf4ec19437219dbcc9aa50": {
          "model_module": "@jupyter-widgets/base",
          "model_name": "LayoutModel",
          "state": {
            "_view_name": "LayoutView",
            "grid_template_rows": null,
            "right": null,
            "justify_content": null,
            "_view_module": "@jupyter-widgets/base",
            "overflow": null,
            "_model_module_version": "1.2.0",
            "_view_count": null,
            "flex_flow": null,
            "width": null,
            "min_width": null,
            "border": null,
            "align_items": null,
            "bottom": null,
            "_model_module": "@jupyter-widgets/base",
            "top": null,
            "grid_column": null,
            "overflow_y": null,
            "overflow_x": null,
            "grid_auto_flow": null,
            "grid_area": null,
            "grid_template_columns": null,
            "flex": null,
            "_model_name": "LayoutModel",
            "justify_items": null,
            "grid_row": null,
            "max_height": null,
            "align_content": null,
            "visibility": null,
            "align_self": null,
            "height": null,
            "min_height": null,
            "padding": null,
            "grid_auto_rows": null,
            "grid_gap": null,
            "max_width": null,
            "order": null,
            "_view_module_version": "1.2.0",
            "grid_template_areas": null,
            "object_position": null,
            "object_fit": null,
            "grid_auto_columns": null,
            "margin": null,
            "display": null,
            "left": null
          }
        },
        "e854f17703844c67af17f2507d537e15": {
          "model_module": "@jupyter-widgets/base",
          "model_name": "LayoutModel",
          "state": {
            "_view_name": "LayoutView",
            "grid_template_rows": null,
            "right": null,
            "justify_content": null,
            "_view_module": "@jupyter-widgets/base",
            "overflow": null,
            "_model_module_version": "1.2.0",
            "_view_count": null,
            "flex_flow": null,
            "width": null,
            "min_width": null,
            "border": null,
            "align_items": null,
            "bottom": null,
            "_model_module": "@jupyter-widgets/base",
            "top": null,
            "grid_column": null,
            "overflow_y": null,
            "overflow_x": null,
            "grid_auto_flow": null,
            "grid_area": null,
            "grid_template_columns": null,
            "flex": null,
            "_model_name": "LayoutModel",
            "justify_items": null,
            "grid_row": null,
            "max_height": null,
            "align_content": null,
            "visibility": null,
            "align_self": null,
            "height": null,
            "min_height": null,
            "padding": null,
            "grid_auto_rows": null,
            "grid_gap": null,
            "max_width": null,
            "order": null,
            "_view_module_version": "1.2.0",
            "grid_template_areas": null,
            "object_position": null,
            "object_fit": null,
            "grid_auto_columns": null,
            "margin": null,
            "display": null,
            "left": null
          }
        }
      }
    }
  },
  "cells": [
    {
      "cell_type": "code",
      "metadata": {
        "colab": {
          "base_uri": "https://localhost:8080/"
        },
        "id": "jWwbwd94OIAv",
        "outputId": "024207af-49a5-4416-f98d-d07bd792be75"
      },
      "source": [
        "#!pip install -Uqq fastbook"
      ],
      "execution_count": 1,
      "outputs": [
        {
          "output_type": "stream",
          "text": [
            "\u001b[?25l\r\u001b[K     |▊                               | 10kB 17.8MB/s eta 0:00:01\r\u001b[K     |█▍                              | 20kB 21.6MB/s eta 0:00:01\r\u001b[K     |██▏                             | 30kB 12.5MB/s eta 0:00:01\r\u001b[K     |██▉                             | 40kB 9.7MB/s eta 0:00:01\r\u001b[K     |███▋                            | 51kB 5.5MB/s eta 0:00:01\r\u001b[K     |████▎                           | 61kB 6.1MB/s eta 0:00:01\r\u001b[K     |█████                           | 71kB 6.1MB/s eta 0:00:01\r\u001b[K     |█████▊                          | 81kB 6.3MB/s eta 0:00:01\r\u001b[K     |██████▌                         | 92kB 6.3MB/s eta 0:00:01\r\u001b[K     |███████▏                        | 102kB 5.3MB/s eta 0:00:01\r\u001b[K     |████████                        | 112kB 5.3MB/s eta 0:00:01\r\u001b[K     |████████▋                       | 122kB 5.3MB/s eta 0:00:01\r\u001b[K     |█████████▍                      | 133kB 5.3MB/s eta 0:00:01\r\u001b[K     |██████████                      | 143kB 5.3MB/s eta 0:00:01\r\u001b[K     |██████████▉                     | 153kB 5.3MB/s eta 0:00:01\r\u001b[K     |███████████▌                    | 163kB 5.3MB/s eta 0:00:01\r\u001b[K     |████████████▎                   | 174kB 5.3MB/s eta 0:00:01\r\u001b[K     |█████████████                   | 184kB 5.3MB/s eta 0:00:01\r\u001b[K     |█████████████▊                  | 194kB 5.3MB/s eta 0:00:01\r\u001b[K     |██████████████▍                 | 204kB 5.3MB/s eta 0:00:01\r\u001b[K     |███████████████▏                | 215kB 5.3MB/s eta 0:00:01\r\u001b[K     |███████████████▉                | 225kB 5.3MB/s eta 0:00:01\r\u001b[K     |████████████████▋               | 235kB 5.3MB/s eta 0:00:01\r\u001b[K     |█████████████████▎              | 245kB 5.3MB/s eta 0:00:01\r\u001b[K     |██████████████████              | 256kB 5.3MB/s eta 0:00:01\r\u001b[K     |██████████████████▊             | 266kB 5.3MB/s eta 0:00:01\r\u001b[K     |███████████████████▍            | 276kB 5.3MB/s eta 0:00:01\r\u001b[K     |████████████████████▏           | 286kB 5.3MB/s eta 0:00:01\r\u001b[K     |████████████████████▉           | 296kB 5.3MB/s eta 0:00:01\r\u001b[K     |█████████████████████▋          | 307kB 5.3MB/s eta 0:00:01\r\u001b[K     |██████████████████████▎         | 317kB 5.3MB/s eta 0:00:01\r\u001b[K     |███████████████████████         | 327kB 5.3MB/s eta 0:00:01\r\u001b[K     |███████████████████████▊        | 337kB 5.3MB/s eta 0:00:01\r\u001b[K     |████████████████████████▌       | 348kB 5.3MB/s eta 0:00:01\r\u001b[K     |█████████████████████████▏      | 358kB 5.3MB/s eta 0:00:01\r\u001b[K     |██████████████████████████      | 368kB 5.3MB/s eta 0:00:01\r\u001b[K     |██████████████████████████▋     | 378kB 5.3MB/s eta 0:00:01\r\u001b[K     |███████████████████████████▍    | 389kB 5.3MB/s eta 0:00:01\r\u001b[K     |████████████████████████████    | 399kB 5.3MB/s eta 0:00:01\r\u001b[K     |████████████████████████████▉   | 409kB 5.3MB/s eta 0:00:01\r\u001b[K     |█████████████████████████████▌  | 419kB 5.3MB/s eta 0:00:01\r\u001b[K     |██████████████████████████████▎ | 430kB 5.3MB/s eta 0:00:01\r\u001b[K     |███████████████████████████████ | 440kB 5.3MB/s eta 0:00:01\r\u001b[K     |███████████████████████████████▊| 450kB 5.3MB/s eta 0:00:01\r\u001b[K     |████████████████████████████████| 460kB 5.3MB/s \n",
            "\u001b[31mERROR: voila 0.2.4 has requirement nbconvert<7,>=6.0.0, but you'll have nbconvert 5.6.1 which is incompatible.\u001b[0m\n",
            "\u001b[31mERROR: google-colab 1.0.0 has requirement tornado~=5.1.0; python_version >= \"3.0\", but you'll have tornado 6.1 which is incompatible.\u001b[0m\n",
            "\u001b[?25h"
          ],
          "name": "stdout"
        }
      ]
    },
    {
      "cell_type": "code",
      "metadata": {
        "id": "yFaPfAI3ORxM"
      },
      "source": [
        "import fastbook\r\n",
        "fastbook.setup_book()\r\n",
        "from fastbook import *\r\n",
        "from fastai.vision.widgets import *\r\n",
        "from fastai.vision.all import *"
      ],
      "execution_count": 24,
      "outputs": []
    },
    {
      "cell_type": "code",
      "metadata": {
        "id": "yV3sFSlnQKXm"
      },
      "source": [
        "path = Path()\r\n",
        "learn_inf = load_learner(path/'bear_classifier.pkl', cpu=True)\r\n",
        "btn_upload = widgets.FileUpload()\r\n",
        "out_pl = widgets.Output()\r\n",
        "lbl_pred = widgets.Label()"
      ],
      "execution_count": 25,
      "outputs": []
    },
    {
      "cell_type": "code",
      "metadata": {
        "colab": {
          "base_uri": "https://localhost:8080/",
          "height": 162
        },
        "id": "-OP2C_lERy3g",
        "outputId": "d5725119-ec45-4718-bc90-fe76410cf9b3"
      },
      "source": [
        "#img = PILImage.create(btn_upload.data[-1])"
      ],
      "execution_count": 22,
      "outputs": [
        {
          "output_type": "error",
          "ename": "IndexError",
          "evalue": "ignored",
          "traceback": [
            "\u001b[0;31m---------------------------------------------------------------------------\u001b[0m",
            "\u001b[0;31mIndexError\u001b[0m                                Traceback (most recent call last)",
            "\u001b[0;32m<ipython-input-22-82db33b3197c>\u001b[0m in \u001b[0;36m<module>\u001b[0;34m()\u001b[0m\n\u001b[0;32m----> 1\u001b[0;31m \u001b[0mimg\u001b[0m \u001b[0;34m=\u001b[0m \u001b[0mPILImage\u001b[0m\u001b[0;34m.\u001b[0m\u001b[0mcreate\u001b[0m\u001b[0;34m(\u001b[0m\u001b[0mbtn_upload\u001b[0m\u001b[0;34m.\u001b[0m\u001b[0mdata\u001b[0m\u001b[0;34m[\u001b[0m\u001b[0;34m-\u001b[0m\u001b[0;36m1\u001b[0m\u001b[0;34m]\u001b[0m\u001b[0;34m)\u001b[0m\u001b[0;34m\u001b[0m\u001b[0;34m\u001b[0m\u001b[0m\n\u001b[0m",
            "\u001b[0;31mIndexError\u001b[0m: list index out of range"
          ]
        }
      ]
    },
    {
      "cell_type": "code",
      "metadata": {
        "colab": {
          "base_uri": "https://localhost:8080/",
          "height": 162
        },
        "id": "xtHRJAOASI_E",
        "outputId": "700d1be7-eb06-4e96-8c7b-640f35b88a56"
      },
      "source": [
        "#pred,pred_idx,probs = learn_inf.predict(img)"
      ],
      "execution_count": 17,
      "outputs": [
        {
          "output_type": "error",
          "ename": "NameError",
          "evalue": "ignored",
          "traceback": [
            "\u001b[0;31m---------------------------------------------------------------------------\u001b[0m",
            "\u001b[0;31mNameError\u001b[0m                                 Traceback (most recent call last)",
            "\u001b[0;32m<ipython-input-17-9a18687b977c>\u001b[0m in \u001b[0;36m<module>\u001b[0;34m()\u001b[0m\n\u001b[0;32m----> 1\u001b[0;31m \u001b[0mpred\u001b[0m\u001b[0;34m,\u001b[0m\u001b[0mpred_idx\u001b[0m\u001b[0;34m,\u001b[0m\u001b[0mprobs\u001b[0m \u001b[0;34m=\u001b[0m \u001b[0mlearn_inf\u001b[0m\u001b[0;34m.\u001b[0m\u001b[0mpredict\u001b[0m\u001b[0;34m(\u001b[0m\u001b[0mimg\u001b[0m\u001b[0;34m)\u001b[0m\u001b[0;34m\u001b[0m\u001b[0;34m\u001b[0m\u001b[0m\n\u001b[0m",
            "\u001b[0;31mNameError\u001b[0m: name 'img' is not defined"
          ]
        }
      ]
    },
    {
      "cell_type": "code",
      "metadata": {
        "colab": {
          "base_uri": "https://localhost:8080/",
          "height": 212
        },
        "id": "Zg3fwoUfSLBU",
        "outputId": "f23fac63-c505-40eb-cbee-721bc516d360"
      },
      "source": [
        "#hide_output\r\n",
        "#lbl_pred = widgets.Label()\r\n",
        "#lbl_pred.value = f'Prediction: {pred}; Probability: {probs[pred_idx]:.04f}'\r\n",
        "#lbl_pred"
      ],
      "execution_count": 18,
      "outputs": [
        {
          "output_type": "error",
          "ename": "NameError",
          "evalue": "ignored",
          "traceback": [
            "\u001b[0;31m---------------------------------------------------------------------------\u001b[0m",
            "\u001b[0;31mNameError\u001b[0m                                 Traceback (most recent call last)",
            "\u001b[0;32m<ipython-input-18-2e80e0c46125>\u001b[0m in \u001b[0;36m<module>\u001b[0;34m()\u001b[0m\n\u001b[1;32m      1\u001b[0m \u001b[0;31m#hide_output\u001b[0m\u001b[0;34m\u001b[0m\u001b[0;34m\u001b[0m\u001b[0;34m\u001b[0m\u001b[0m\n\u001b[1;32m      2\u001b[0m \u001b[0mlbl_pred\u001b[0m \u001b[0;34m=\u001b[0m \u001b[0mwidgets\u001b[0m\u001b[0;34m.\u001b[0m\u001b[0mLabel\u001b[0m\u001b[0;34m(\u001b[0m\u001b[0;34m)\u001b[0m\u001b[0;34m\u001b[0m\u001b[0;34m\u001b[0m\u001b[0m\n\u001b[0;32m----> 3\u001b[0;31m \u001b[0mlbl_pred\u001b[0m\u001b[0;34m.\u001b[0m\u001b[0mvalue\u001b[0m \u001b[0;34m=\u001b[0m \u001b[0;34mf'Prediction: {pred}; Probability: {probs[pred_idx]:.04f}'\u001b[0m\u001b[0;34m\u001b[0m\u001b[0;34m\u001b[0m\u001b[0m\n\u001b[0m\u001b[1;32m      4\u001b[0m \u001b[0mlbl_pred\u001b[0m\u001b[0;34m\u001b[0m\u001b[0;34m\u001b[0m\u001b[0m\n",
            "\u001b[0;31mNameError\u001b[0m: name 'pred' is not defined"
          ]
        }
      ]
    },
    {
      "cell_type": "code",
      "metadata": {
        "id": "aG6XujNSQfId"
      },
      "source": [
        "#btn_run = widgets.Button(description='Classify')\r\n",
        "#btn_run"
      ],
      "execution_count": null,
      "outputs": []
    },
    {
      "cell_type": "code",
      "metadata": {
        "id": "OFniShm5Wjur"
      },
      "source": [
        "def on_data_change(change):\r\n",
        "    lbl_pred.value = ''\r\n",
        "    img = PILImage.create(btn_upload.data[-1])\r\n",
        "    out_pl.clear_output()\r\n",
        "    with out_pl: display(img.to_thumb(128,128))\r\n",
        "    pred,pred_idx,probs = learn_inf.predict(img)\r\n",
        "    lbl_pred.value = f'Prediction: {pred}; Probability: {probs[pred_idx]:.04f}'"
      ],
      "execution_count": 27,
      "outputs": []
    },
    {
      "cell_type": "code",
      "metadata": {
        "id": "2-MU7dheWrf0"
      },
      "source": [
        "btn_upload.observe(on_data_change, names=['data'])"
      ],
      "execution_count": 28,
      "outputs": []
    },
    {
      "cell_type": "code",
      "metadata": {
        "colab": {
          "base_uri": "https://localhost:8080/",
          "height": 113,
          "referenced_widgets": [
            "ecad8d21d0aa45878bf2888c84551278",
            "3a8de69d580d46818f4f227f5ff6f9b1",
            "dae5993006ec4733b70008c106c9be09",
            "4115ac01df0345018deb87eb21ca6737",
            "9b7984aa71d64b719c1ed78b9f552772",
            "659e402a056943c59e614ca1296a9a8a",
            "27c77c9c7c78467990e2065b153dde3c",
            "31f14523b369494db3edc811d705ecf2",
            "86af832f3d9e45bd8ee661f2ca99c39a",
            "eed5077956e44268bd82a7e79219e51d",
            "450dd752168640dc98fc6dc1adc39f1e",
            "3c23963802bf4ec19437219dbcc9aa50",
            "e854f17703844c67af17f2507d537e15"
          ]
        },
        "id": "7dVnyJFtWuRq",
        "outputId": "e99102e7-b886-4fbb-e13c-4ee38f47eea6"
      },
      "source": [
        "display(VBox([widgets.Label('Select your bear!'), btn_upload, out_pl, lbl_pred]))"
      ],
      "execution_count": 29,
      "outputs": [
        {
          "output_type": "display_data",
          "data": {
            "application/vnd.jupyter.widget-view+json": {
              "model_id": "ecad8d21d0aa45878bf2888c84551278",
              "version_minor": 0,
              "version_major": 2
            },
            "text/plain": [
              "VBox(children=(Label(value='Select your bear!'), FileUpload(value={}, description='Upload'), Output(), Label(v…"
            ]
          },
          "metadata": {
            "tags": []
          }
        }
      ]
    },
    {
      "cell_type": "code",
      "metadata": {
        "id": "7v_o2nkLOY85"
      },
      "source": [
        "#def on_click_classify(change):\r\n",
        "#    img = PILImage.create(btn_upload.data[-1])\r\n",
        "#    out_pl.clear_output()\r\n",
        "#    with out_pl: display(img.to_thumb(128,128))\r\n",
        "#    pred,pred_idx,probs = learn_inf.predict(img)\r\n",
        "#    lbl_pred.value = f'Prediction: {pred}; Probability: {probs[pred_idx]:.04f}'\r\n",
        "\r\n",
        "#btn_run.on_click(on_click_classify)"
      ],
      "execution_count": 19,
      "outputs": []
    },
    {
      "cell_type": "code",
      "metadata": {
        "id": "TTbKwp1fOekj"
      },
      "source": [
        "#Putting back btn_upload to a widget for next cell\r\n",
        "#btn_upload = widgets.FileUpload()"
      ],
      "execution_count": 20,
      "outputs": []
    },
    {
      "cell_type": "code",
      "metadata": {
        "id": "SEjWmGoeRHk0"
      },
      "source": [
        "#hide_output\r\n",
        "#VBox([widgets.Label('Select your bear!'), \r\n",
        "#      btn_upload, btn_run, out_pl, lbl_pred])"
      ],
      "execution_count": null,
      "outputs": []
    },
    {
      "cell_type": "code",
      "metadata": {
        "id": "ti876txlSfK_"
      },
      "source": [
        "#!pip install voila\r\n",
        "#!jupyter serverextension enable --sys-prefix voila "
      ],
      "execution_count": null,
      "outputs": []
    },
    {
      "cell_type": "code",
      "metadata": {
        "id": "HSkU5VguUTKw"
      },
      "source": [
        ""
      ],
      "execution_count": null,
      "outputs": []
    }
  ]
}