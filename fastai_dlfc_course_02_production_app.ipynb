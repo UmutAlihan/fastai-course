{
  "nbformat": 4,
  "nbformat_minor": 0,
  "metadata": {
    "colab": {
      "name": "fastai_dlfc_course_02_production_app.ipynb",
      "provenance": [],
      "collapsed_sections": []
    },
    "kernelspec": {
      "name": "python3",
      "display_name": "Python 3"
    },
    "widgets": {
      "application/vnd.jupyter.widget-state+json": {
        "3d2fa24bea284c3e9df064563748d37e": {
          "model_module": "@jupyter-widgets/controls",
          "model_name": "FileUploadModel",
          "state": {
            "_view_name": "FileUploadView",
            "_counter": 1,
            "style": "IPY_MODEL_50de2da9f72945d5b2f3c2a1f2c71083",
            "_dom_classes": [],
            "description": "Upload",
            "multiple": false,
            "_model_name": "FileUploadModel",
            "data": [
              null
            ],
            "button_style": "",
            "_view_module": "@jupyter-widgets/controls",
            "_model_module_version": "1.5.0",
            "accept": "",
            "_view_count": null,
            "disabled": false,
            "_view_module_version": "1.5.0",
            "error": "",
            "description_tooltip": null,
            "metadata": [
              {
                "name": "teddy.png",
                "type": "image/png",
                "size": 42171,
                "lastModified": 1609793022691
              }
            ],
            "_model_module": "@jupyter-widgets/controls",
            "layout": "IPY_MODEL_b4e5742cae60464fb04952e02fe69199",
            "icon": "upload"
          }
        },
        "50de2da9f72945d5b2f3c2a1f2c71083": {
          "model_module": "@jupyter-widgets/controls",
          "model_name": "ButtonStyleModel",
          "state": {
            "_view_name": "StyleView",
            "_model_name": "ButtonStyleModel",
            "_view_module": "@jupyter-widgets/base",
            "_model_module_version": "1.5.0",
            "_view_count": null,
            "button_color": null,
            "font_weight": "",
            "_view_module_version": "1.2.0",
            "_model_module": "@jupyter-widgets/controls"
          }
        },
        "b4e5742cae60464fb04952e02fe69199": {
          "model_module": "@jupyter-widgets/base",
          "model_name": "LayoutModel",
          "state": {
            "_view_name": "LayoutView",
            "grid_template_rows": null,
            "right": null,
            "justify_content": null,
            "_view_module": "@jupyter-widgets/base",
            "overflow": null,
            "_model_module_version": "1.2.0",
            "_view_count": null,
            "flex_flow": null,
            "width": null,
            "min_width": null,
            "border": null,
            "align_items": null,
            "bottom": null,
            "_model_module": "@jupyter-widgets/base",
            "top": null,
            "grid_column": null,
            "overflow_y": null,
            "overflow_x": null,
            "grid_auto_flow": null,
            "grid_area": null,
            "grid_template_columns": null,
            "flex": null,
            "_model_name": "LayoutModel",
            "justify_items": null,
            "grid_row": null,
            "max_height": null,
            "align_content": null,
            "visibility": null,
            "align_self": null,
            "height": null,
            "min_height": null,
            "padding": null,
            "grid_auto_rows": null,
            "grid_gap": null,
            "max_width": null,
            "order": null,
            "_view_module_version": "1.2.0",
            "grid_template_areas": null,
            "object_position": null,
            "object_fit": null,
            "grid_auto_columns": null,
            "margin": null,
            "display": null,
            "left": null
          }
        },
        "6f6c397c0ba448cba839dc0c94d626d5": {
          "model_module": "@jupyter-widgets/output",
          "model_name": "OutputModel",
          "state": {
            "_view_name": "OutputView",
            "msg_id": "",
            "_dom_classes": [],
            "_model_name": "OutputModel",
            "outputs": [
              {
                "output_type": "display_data",
                "metadata": {
                  "tags": []
                },
                "image/png": "iVBORw0KGgoAAAANSUhEUgAAAHoAAACACAIAAABLMurMAABOQElEQVR4nMX9WbNcSZImiOliZmfx5S5YIgKxZGblUlt3VbNrpnumZ4TC6REZ4fBf8pF84QNF+MSXERlSmk1SODPsri0ruyojMyMABIC7uPs5x8x04YO5AxcIBAKRESk0gUDuve7Hl++Yqal++qka/o9/ffXv/u6KCQEQHMEJXhsI7xqIdx53f/1BIwMAMERgtkAAXgNpIF1FuLcdH36w3p53gL6b8+Nn09Nn9eqaDUZEci3ktY+6SXa5po8/2Dy6PyQ2EDFdAKW9ARC6O5gCAoADdWoDxegIinxY6tXV/sXzF0MXfvTJh9F3Sa8tH1yEEURF1UPXI0flLqcH//C0/vLXL6a6yrA2iI4EWBAKoaBFcL7zTe11FO6C9gYKr43g5gSIgOAOQHbE7Hg90bvh9m9+J0QiNAdCJGcCgjr2/vBydXnebyOtovc9EOzNJCUe7w8rCj4f5nJwJOps1dHFujsf4d4mno3IdkCtrsWluAogIKGbATohuLuZUuiYxTQAcwjdNtJwb7i/fmBSqR5kvma9JRerWbS6G1OQsihwWm0jrx5dbnM+/83TokUrREAAQGgIvDav4O4sfPORd07QcMTJHQDc7IS1tcvenLBvQ/xtb3lCHgEB0IU0b0b8+Y8uPrnfD8GSFdbZ61SWW4Oa4rBJ5+cP1inHL57cct+d3988uBjWHQUQtjnYDGUxK+jGyiaAhEjkWt3U3EwVwSEW4IUoUejQCxBHpNWAKrbsd3l/ZWVikzzvGSAEcvMsYk4kCkbbM/7jT7Yq+8OXkyIaRAdDBwDC13F4y/f95oGIR3jdgwOYHy2IH/G5A9p74P1Nw82RHFDdlqHTH390/qP7HOtXvBxcl7osLrkuB0TnbqCU+77+9MPV/dUq9l0/hi4KuJR5T5YZBb2QKziAISoSEpiBAzharogYmKxWcgNWAHGogIzEjshWO1IjOswVTckDgJVFl2kWcKKIeIgGbLa5lz693z9+cXOVzXEEYHRA4G//tu/Awf0V3O1XQDz98Q1z/O1wt7v3ltVGDuDgGoN/+HDzyYOx0xu5/rzkZ67mngKy52JiNmnsQedM67PLVY9YsQJUN6lQCiICuburE7hbqbVISsHMHIyRTATQAehoRR3M3dUAGYkQEcEIfFitVGx/fQ3VBR3U9zmXUiikwSzWaZTKaTxfffjpR+vli92k6NCjMTr6d5nOX4f75f+vGRNwcIDTK/u37ZOvXu4tiCMAgqowyLoPnzxYj7H44TnVFzo9VwjOZwDuAmTMFF1UbHKQ4WzDxGRoomSWkN3cxB3QHcBR61LKTNSpqIMZk6OJVDUMMZGRo6qCoQMZMSNiQCAmjJzGVcjLLGU3zTcvnj9/9tX1zc2ylI8+/OBsle4/uH8vDV23+viDsy9e7KZdRowIAYEd7JsBeF/EwT24v2Gg/fVt9w1H5RuxfuPvhqCEoNABPhjjvc7C8lT2j22eoXa5KqYDcpQiVjSlnlKCFBiIXcnAspi2jyEI1O68GyA4Wo0EoDUQuQOYIUCkgAjk6Nr2H2eKiOYGbl7BMQQKnBKv1qsY4uOnz/8P/6f/y9PHT5dpJsDPPvn4wdn4859/9lebs7hZr866i3V8dlORgzu4Vgz8jmX+bhtw99HgjuDYpvSdef1qvP+2cPd1zVwRIsHI/GDTj7jI/qv5+onMQtrvDtNcn19sz7yKVhez4EqQ+i7qkg0CmiOimZnqyxd1MwRAs4AEZs0hafcbERHQzQGcmADAtLgRMruBAQhAAAWzEAKvu+3lQ6P+H//pMQEOXTft/vE3HZW6fPKTT8fzbT+ef/bw8vGL/W5GaKbsnZC+7w6HGN4Tyu8+nEAj2mbkBxd9pFlkmXc3++vJNH3+xZNf/fofz7ZnH9578PFHjzB64tgNqxA6yZUZA7GKHh1NNzj6SCeA3cAbjK/NBkdwVTMFRCIGBFdDQEJ0NXVARuagBh9/8sl//9//766eXr14/lVAslwU4Mmz57/57ecf/ujjNN3e235wPqTdQTBEBXb7/V2Gu+MPBTc6kDtD3Qxh3bvnneUpIpbl8Pmv//F/+Hf/09//+rcI+ODy3r/51//6v/23/824Oe+G3k+7EroTohuYq6k5ODi4OwIwgrmbmUgFxBTTK8Tdzb3dFXV3UUSiEADI1ErOHDn2K1QIgf/kj3/xJ3/2x//z//uQAvvQAaE6IngEwWWvad+hMpoSqhK4fksE8n7jW+F+10J5l51BJFeGOsQUbMm7q+X2WuZl2u1/+5tf/9OvP7+6zmZaBTGNlw8+DKkDQILm/ruTIfgRY3c3AziuaFUzUyJiZkR66WbB8RmGRIDoZu6ADACA4GamqqUWwIgYzGB7tv3jP/7F//d/+v/M8+HibBtS98mnDz777NPISFJQ6iolxrqYGjKhgX/zbvne9vZ7ze63+H+vHgNCGBKuRwTd67KTJU+HWVXOLzY/+fGn06+e1Fp//JOf/Gf/6j/vx5Wbntz+5jaJqrUlTAQO4I7uhghqaqpMFEJ0dzUFA0R0cDNDRnAnZEZ0cDeXks0dHAIxEqkoEICHEMPPfvZHn3zy0VePv/z4k48+evTJL/70jz759IFpnaclDEoU3KupeyBE/Mbg/Lv4iG+B+zVr+HubLAdXj5FWA7tem8wE2MX+3r2HabUNq/tGf7vb73/+Rz9+cO8cyADM3EgcEUxVQc3MzNrMZWYARwBVQcQQgpmVUgAcENXU3VuExkgMCOhm6o7IYObgQBwAEZ3cHc2BnAAeffzhv/23/5ur5189+vDD+w8/GFfJPBuwQ6rGt5MYBiQyEMTvBus3jT/cVomi4OgxgdbFTRAxpZHSyOtSIfx360sgXm3WqzEiilhtdpcMEIEAHIEQHcDdzLSZZVdjYkSutdZSQgwxRTVxN0LiwEwI6GCGCIigqgCAxCEQIKuDAbqDirp7l9If/8kvvnqy3oxjP0QwyVrCOHo6WzQ92xWlMQSyurgTvl8U8u7xB4QbgM3cTNxrYKI0kCciU6V75/6jh2tOqVuvmURkOm5xhghAxAGJEAzNzM1AtDZb7AbIwcwQIabAzEzMid0dwImQA5oZuDOxQlszrqoAThwdCJARkJjAIRCMY89MgAZeQyDxmKFzHJ4d7DajRkJwRgMH+H6hfBvhuOcDACCCv+0Wvt2gNLt9uvLNyxAbYFCLIjPGiCGwkyEExhXGzhHIu0iEagruYE7g6I4M0vbLtkmaGyEaAiKqmaoCYAjhJRlJRIjobmrq6g4Gjm4EiGauogbu4CQOxEDAkYkYEdw1xphSVK3g6MbAPcTLydZf3apAcAdUZWzh9jeP97a5AUDBj/zfW8wTvhVtP76JcwP663smuhGAVbi9lfN1YidFoYgBQ+crQSkldzHFNBAFdVd3ADRAADARcKVmLxECsZk1VicEMnOigEgOwEQOXmtBxBiTgzmCO5k7qqq5qDKHAGje5rg5AiADExAyYuz6cT0+f/ol4cJpRd1HEj75at/fTAZE4AKmCOg/xNSGkzF5nR65+6O/Zb778WZ7o7fe6pw4gCHdFv/NV/ttxxfDmdWJJYNkqA5KToHigBTcG6l8WmDo4IDN6UMHAwcwNzMFB6IQY2fm4MYhENIp+DQiipSq1+NlSIDmjXcndjUAZQIgNDNAIw6IiMQpjuacPcZ4RvHe1RKf7TU7ATo2M+JMiN+LNHkd7teRen1pfCOX/c5hhAIE2N2aPqthWN3DkuvuKyt7lEqYMI4pJkRSVWy03as3REA0Nze/MxOQmIgoBBYxYiKkWqu7ExMCqqqCGTgSEyMAEHI6OXAxRghE6Bi4qjs5I8YYDGHcnK3OHmSMlh7NJT2ZloMEpeDk6EAW0MkIAH9vL+3VeBPub8f6/QYCICFwv1f9h6dLUX7YPwwRqcbgEzgwx9h3SOSi+NqKckJwRGiOtDsRtU9CSIGD2/EvIlJqAYAhDE6upupGgc3M3JgDIjYbhSejqCZezZxV1M1iWMfUrze0vfTPd3jQy33h64oS2cAcjJ0BEIHBHVB/PyjujtfgfmsEefePb6J/xwi9YVXQLaqB+mJYasxZnw90ES62tOrTHGU3shPHYyQDCK7tagJvSdPjG4KbqohyYERU1VwKUSBCJOrH0URDCCJCyExBwACcgETEzN3d1AEwxRQCAaCqtnxBLZk5dP1IsevXZ9OtPZmTYicBldyxgrm3/BkQgLwByvtC9Cbc73Tg3xU3NrxPb/UG5U1mwdQBgZL7sC86l/IceRviWRofpLBOkztUUUQEcDclaj+5mbcAHgnR2d2JnJEQUFRDCCGm9s6BGCI1E2MiRIQIXgUA5nme5yXFiBgQUUWZKQZCcHFJKQCQSS0lh9THYUwrKtdBkAzJXAAB0QFO5ME7IPxWxO78+gejqMDRFIjJST0oRLEo0GfXndTE5eOg5uBt/3dAJGYC0yrqfsdgI4YQAECkBiJmDiHF2Jl7C+Xb9SZiboSBiYxYpMYYr29uvvziS0QeV2MMKXKMzF3fAfr1i+tuXG3PL820qHAaV5ueboQaWPYqj2joCPZe+9V7jB8Y7pfLSgGVAwAdPzMiMRIGI87uHjqOxTwDNs8BEOn4NV3NHFq6DBwcSimlFHfv+r7rB4Qj009Eqkp3k4HgKkqEzJxSt9ls/sN/+I9//7e/ZKJ79+5fnD8Y+9VmMx4Ot7e765/94uf9OMYYgTX0dL6N65QPi7sHUDJmIAB0RwVE/7Y0y7tBefnjDwn3XROmiEKx7TIEEggITLW6mJNxgBCilQxIiOBuUutSs6sguKibH3OnDn44HERkvV4jEAK6e63ZzRGxlKJqxORmSOgA1YU4hBBDCA8efvBf/Bf/5f17D/7Tr/7Tfj/N05dlEnMZx/jHf/KzRx99VCV7CamPALIa4HyNeVrckzmTsgEAipEhGBq8Zyrx3bCEb10lX98/7/wF3/E0AHQ3Q21JATNHE8A8dLTZBArg1QHUDVxqzcuLZy/qkrfnW+dQRWqp0zTd3NzM8/zRo0f3h5UalCIAVEqpVfb7w/Nnz69vdtNhUi1nZ2f37t87u9hut9uSawYaNpsPHn7w4MEHf/GXf3k4LMtUyiymcn6xuffwXog85VzdLBfAeejT5RqfPYVsCmSAhE7ujOTu9I797Z34vDlCe7ylhN+adXzXCyF80z1nM2r7DBkimTMYMgJCTkHHVSJSRzMXcENwNL+5uvm7v/klhch9vL69vbm5zrms1+u/+Iu/+OjRp6v1RlXVrJT5+vn1r//pd7/85a+ePHm2LIubEWM/9MOQHt4//+xHP/rw0aOLe/fqnCkEc++HsRvXDBw4toQyIhhSNzCU6kWRcuqn7WodQncQ8KCogBYIUMFObMmdQOclffEdRziBiN9LU/K2gX6MDgHhmGJ2AiRmCMhgjo0LBQdCjt2Pf/JHuehf/+3fXz35UlQu79/77Oz8xz/+yS9+8cer1SiqRGCAv/3NF//+3/0//+5vfnlzs3fnvu+7LoXIh/20v719/uTp3//9rx598sl/9V//V5/86DM0BUZZZkfq42Bq1vhyN2QmZjztiW7ad12I5OLE7E5wjAfwG5iM32e8Ej4cCacfgtU9jZcf05uL7u6IHEIMFLAi2tGTRITY8bhe/dV/+a9+/hf/bL+fTOr2/HyzWrcFZ+4hJRPJu/0//PJX/8v//L8si5hRl7oUezOvRWMkDklVy1I///yLT3/7249/9KlIRid1AcQK2LJAjc8iwFoqIsYuuVuuVc3BGcHh+8kc3jHCK7/S4QdFvE0NA/SXc8MdAChSikRkAIbHSALczMRFKYyb1fnlpVcVqbVmJCIkd0uMiGhggKDmfowSbZpnRIyRiQGd3QmAQ4jr9TaEYKJm0sg/1SoVG4+oZkNcceAqYjmjsjDt50UkErJIQWMEPk2U95XcfOugkwE+EnvfEdB3Pnq8be5g5uLuAMQYS/FaAYEACZHNQFSLlCKlyiJWqmTVYiZm6qbtB5HqLl3ff/LJpxf37hOzuU15KVIV3BHEvdTqAAbeDcOHH35kauCel1xLZiTElgw1QFfTeT6oStMKOTgi1ypSDIGaGu70BV8ifnI5Xx/fFe7XdIHvvh5fG9/y0neYkCZVMERE5GXWXFyBqqkjNtLOwVWlfTGtRVXcjQjdrUmWTUVVmOmnP//pf/2//jf3HtxLfQyRUh+IwdDNVayqm4Ff3Lu4vHdpZuCA5nUpZSlSKtExbg2BwF1VRCsiNFfdnc3RgRAZ4aVs8vXRbMHvu829ze/+5tfyN37xr32gO8Tey6XTwhxAaBNHRKq4JlxUGYzbQ44txeAuZoj+SjV6FP9hoyOs6+P/6q/+Rc7l//Y//j92tztiEKmMrk0OAbbdbH7yRz/iQO2eMQcVraU6OKfmtldz7/oeuPGOBuamrtUQCLwZnBNx80MQgS/HtxOwr4H52vPwbo7jLam8Js5yBzwKndzBHUX9dj+VS1BCE1WTSE4EAKClAHHTQ71SMzg1g4uNxTDrev4X//KfE/Pf/M3fPf7ysWcNkcyViH784x/9+Z//+c9//jNzQXARq1VFHBGdDFQA4Pr6qorce/hgiORuBsrOqlaKAqAdScTvEUZ+8/g+UaXfndr+psfkd5bJSRHn6G6q/uJmJ5ccYqp1MSkcQ8uZAziqOJDDywjAzR1bvgkBAFQVTdfr4V/963/505/+5Neff66iiLA/3FxeXnzy2Wf3Lu+Bg0g181qqmUdOKkd5pojc3t5Oy7zarPqhczc3NwBRrOreiLY3v53/UO5agJepyvfYfL828e9+ptOHfPlc9KYDRoOWW3dUdXfEQ8YKfQ+3bDNgVSO1HhwiqpX9nDPFLqXkZkSMxyT8iUMBNBczUPXNOv3JL34kYmqC+Mkw9hxSLYubmx31ayGEFGJlRWIgvt7fXl1fI8Ocl7UqIpkCerqeh1vtLYJrdRUEQjCHpozTlzU0b3XBv3XDuwv3ETfEt7zat9mt1/zT11zIk/93Z1Uen2xIBeKUuSMGKxGlKIn3HDooebp5cXVzHfr1gwcPmwUSsZdJYndHJFOrpwEAOZdaa4yhls6ACZvAis2ciIg6MUBEc7h6fv3LX/5yXPcXF2foVnKJ3SgexLsXU7opQdjQxc0AzU8TCF/3Bd+Yld/JtP+wjOBbffavyewBFuXHN2W8GBBjsMomrovV6jqLyNXV9VdXn//pn/qjRx+baSkZAI5gu0vVnMu8zCJSa50Ok4jknJdlAcQQ+65LXdd33RBCYqYUOyJW1WmRf/z15+Dyi59/tl4NoioiEDF066nG66kuJSIhETWu8YcCxe6o3f5wOpN3DKwQnuzyxchbHAOW4BawKpihE7G6P378ZJ4zAFxeXjZfotGwtYpUWZZ8c3N9c3s7Habdbo9IIbCqqKojiRoTj+NqGMYQYooJAEspu0NG5n/+Zz9fJYogyKhOAp3Q+tnBb2YxUwJ29JZx/qFJDYD/P8ENit1VsaeH0g3bKDnAwWUJHJWQAn/yyWeX9z/8/PPP//2///effvrpgwf3G15tCt/e7p4/ezHPE3NYr9c//elP1uvNMIwAXqUWscPh8OLF1fXV9e3traqJWIxxs95c3v/wj37204eXG/SqtQgE6Hvoz17k8MUuZ++awBPc9VQJ9oOPV3C7n6zt750Oft8LUTEsps8muRg3MWSsNdhCpAAYu65fb8/Mx3H41a/CX//1X6fUn59vQwiHw+H29vZwmNfr9Z/+2Z9dXFxs1pthGNytyTPnZW6uRc55v5/mKTcTxBxXq03X96nvRQ0JFYKGUcPmIOnL67rXzqiDZj8cHN6dMjziBSc34/1XwR9ydr/J1t6JXc2R0vWy/PYWcL3dwBJNYhYg90AtMXZ2dvbnf/7n5+fnf/u3//DixRURmtlms/lnf/7PP/74kxijmQ3D4O7TVOZlAQcRwcDM7A7b7Wa72SISc0Bkdy9FrFaMYfEQ+g2OF5OtHt/Ibe6Uejd8+Tl/EDngW8cfDO47+cavD3J3hQXjF/vsjp915ytWzbduBQnJxdWGlGKMn3zyyccff1xrXZYlxtj3fQzJzHf7namZGRGpSi5Zqqgqp5BSl3MmwhQ7tQqlxBhrVVPjECB2C8SYzixcPrmSq0xGnTu3pP8fCo3T+EMlz9of7v7y2pRxJSAN/eTydLYBhLAfeGEwdxBTrSIi7k5EMUZ3Pzs7IyIzK7VqVQQKgZZlaX9s715KQa0npTJaMJGq4oiYc5FSxvXGHBfqZ+2vbuqLhYonwMBIxxKqP/Bo6YVXgQ6+YQO+piuBb3zw7c98JUP3V/sPIxBjBSsQ995/sa+KfI9Xm5gCCkEGKKUKAiJiKbnWEmPsul5VpWrOWVVjjCIlhFBKAYemy5RawRWQUuqkllpE1ZhJpKhJFWVkCqtne7tWyNBXDQQECG5NlXj69IjwRgT32tc7Gu53YvuWEdzvEtJv5uTetGJvyFneaeTuhKp+jBT8xBIyCoiYOGGB7tpIJc04X8py1i0DFK0ZAAzcROd5RkRRNqu1VhUF82meGkEfuwTuJRcHVzWt1YSJGFQMQNXdYdLKIVCg6rLph9XqfLnBpQTFoBAVmiDW3QXtqA04UauNimjW/M7e8xpZ9C3jLmShCXNewvhtOp6vof/Od3tJPpzo4+OHFmNDJHQCAxN0xxA5Wuw8hooCzZq42zzPptacnpqKlGqqiCi1uGOthRdmDqqqqkS0zEtjr6HNFWRHTKnvEClylyiyjSOm8Ww90VczPJ/KZNU8IFETKoMjwVFOAXjSqr0z1n6fVd5GgGO10enKd7r33630/hWD2a7CY0EHEEAkZ/IDyu1m8Adn6f7Y3VuFAcXnWm5KdbQq8zwfDgd3AyRwD8w5ZxFp5CIRLssSQgghELObxZikiBMiMSECkTuEEMZx7Po+RB7GAXEmuD5fxTR0F9hfH/DLF/urfZ5qbzQgBHeoqoQExxrDH5IaDHdUMd9Q3f57jRPPAEd6D+iEtQM4uoHZEOv9bfjRw/6js9jjEmzJ8/Vi16i5Y6auj8RDSrVKybmUEogo9cKChM0niSGEGAM3v8JjjF3qiSMFDhQM0N1j6lOXkImZ+2Gg4Kg7mWutNo73zy8vH67XXz7Dz6/8qlQzB0jI4U5flwbHD+MavkWS+YbA8CX636DjfjvlfTIj5IAG5IiN1UNyBkfNm55+8uHw44fre12J5caWvcmeyoQirgoOKcQhJdXBzBo9QsQOJmZImHMmpBiDIxKiihAxESGF1qAFARUcgVPXEbVuCIGgi0RkauW23B6w5ij5sr/cPlxvz4ZfPS+Pn95U08DctCboBK4/WB4eILzb/3kJ/ftMfP/63ukAeORhARy8sltiv3/JP3s0fHxJG9z1svOyr9PsksGMhPNc2aDvOmy1NiohhL7v3cHcmmg2cHCzmFJzBI0DMxNF5CBiag6IjOiAzMwcDNA0gEWrAKCA5nMmnE2vNPu4xc8uzkKfWObHV7N6BAAAttPXoR9OI+hm1kiZt4N4B2W7c3MQv+643L3s+J8fU8/OZOA1gZz14c9/fPmjS2V5QeUayoKlkghWIEUokOe8Godu7EUUEYlbD6G2pXvTsqYYqwgdySkzYmZiiupE1KJwAmJEDCExswEqkjmRIzZxvKJlRRIKi+cbTvzheBY/22pdnux2ROiYDOno8gH+ICY8HC2sf2e25D0UEi1X6QhADOSKngeWz+5vH22gm5+B3Lgcai5YXcRLzoi2HG5zXs4utqHrDAsAIDTth7sDqBFC4HC8jQ6M5GCIyEiIhMhogNjS0MQhxBiZ2AAdzV0AGTGYohY6lImRAoH7nGhhPzzo7/3sk7PpP13dlBmIwcHwNGV+iNFEaw2+78VPfW3g6X8EADBFr8HLg7Pxxx9uu7rD3bXpYc4HM+vCIC5Lnt2mm6sn7hr7zgmBmxAFj1svOiCSATqoKroTcSA2UjcgRCR0R0RCbCa99dhCcAJ0QhOoQB1QcMFczDWvVl2RWmoF2gebaQ0fX3486cP/+OvrnRTH7ri2fyDrHU6OWtOZ4N3CPTw5Em1qtYT5yzc+ZX9eTxe/erj9wAjsrq7VbH822k8/OTvrFG5vrWRT0UUdXV3UioPudje73W48v2CKKk4YEU6tB46vfUyjmQMgO6CYORAgqAG4OhIRAgZmPq4IBGQ0UQOjiEgoKmpABCLupuBIBDlPjl0fZrLnn55tpvv0yyfLrJ1TMNR3U0DvGA6vuR6heR+vv9bdX+2uwgEB8U7ngzc89Nerux3AicCBTCpjHjj/0ccXn9wLND9H2QPosmStQgjzslOpInmasxiN/QaMETmEgESmamYAbtCKWhWIu5hKqaWUEKjp7VvlFCACYiRCYgdQtRgDE+dSHClgRAxShQBjIMkqVQpgP0SP0bH3xUJ5sd3s//TR+f7Av3kByElg+T3i9beOcDfY+57j7qbqTaBjRmgRpCP9yaPLzz7cYr715cbKpCWriIk5utRymA7zPKnaOK6HfsXEhIQNvBZD41HU7sjHtdeE+IAiatYU+4GQHAERRSoSMQVVVTEicgSpjsFjCJFDCFxKFukCx3nKYIakrDkljkBj8Ef3t09vqroctVc/TNXw6/qF18d3y82/bvfJ3NANUTqSR5fDzz4538YZdrdBFpUiqoAYQnBXdcvLskwzgq3X62EYmPno8jdjTEe/oC0ZPNVzMjPcjdPcDAyRzIyZ3YkIa61MgZiBkIjRgYjMnTlIlf1+H2gdE5F5yZlDBGKoAaJerOI6LYd55zHADxRdvpuA/ZYV9M1Ytz8RuKOXnstn9y8vO4fDFee9TYd8WKw5dmZNOuUAxATmXdelLgHzSWD4asUgIhCFwCfzAs3pPhoTt+Zli5mqEhNgICAifrkUkMnUkRDUOQRA2N3egtX1Zhw4JoAqi3PUAwQcNp1+cE4vlsl8QIrfCdZvGnd1Jl9H86RfeA9G5WVE2tBxRCZGr2z5fMAHG+Zy49OVLXso6mpNwNHMa9v/CIkjdV0Hp3l998Wb8sHMyF9JFQGgRfPt04YQiIN5FfdlWRAD9EMTb2o1MG7tUtydibqU+q7f5UlFa5GQc4wFA1Yjq4rzlOL+0f3hyxv/KitQ+v79kVoZhDsYQFM+evsHp7+8SYV9Tfz5xjd/JQfxtpcbe3541q+TYrmFctBlAfUUU0yJQwBoWkttcTYRxZSaD9eMNiK2iXzqbeJqx6n98k1bb5NjCIYAgGoWOAJALaVWQQIRybmYqpuZmjsQUexSex0zJQcpGciQER2xFjl8tY3zxQpJBX7f5AO+RdaDdgyafrgUnbvXWghqx/DB5Tr5wcoeTR0ZMLiD1OLgUmuptdbKIQA4EaUYv96ps6V12pRXd5FaSxWRNrWbbWFmM5WlCBi4hxS8qpmBqVto17Yp0qpb3bzveiSSKkgOYhhNtHjlCBzUvB6I8YPLB7/6anEzoB/AeP/hcpWtl4hsztLFWYf1ilwMwTFUi1VKVeFjjXt005Kzu3ddx8zEr9X7txWDrf6yLalTU41mRooIMzcI1RyJYozgwEzmVmoGwNR1AKDqTODaKHEcx2E1DvO0J4pSqoIpVkwEFCMIxyX4+nLTb1f0bO8/BNp/MLiJEAFRdbsauwi2FCbi2JFy9UAIXagAoA6qQsRmLqLjOBLz20IKl1qa8XYVN3NoNcX40rIRkZkjhWasAVBF71qe49ZsaIQKSMx9P6zX2/3uBiACAJiZVtAKqAgWyU3mROXRB2fX862dkiknV/f0Kb+LSXi9KenXxhv+xntqD93dgNUwsa8GIb022YOiWwIERlNQQEaCaZprFXdQs6UUdVADZgSEWqUlKFSKmxGAWnU1JDZHkVpF3S2EwCEioZgTc2tCyYFVrfmaMXUcgroR0TFpAGSOjkghpmEFyI6kBCFwAIpoXbRaxD2iMJX9B338TaxX2Z07B2JwAgVXBDQIr7i4bxh+x494C9/9RnD4DhalTau3ljKYgSN3KaxGAN2DllrUlUAMrGpdHCFENndkYmSioGpVTFUNEAhbExlzk1yIkBEJzNwRiQKCWdtyOERVdYAqgqqpH1ofDjNPXeIYEQma9A+ROTAFJ1ZzqVVNxZxjF0JSgEgUkVjEymER57pKwqlMo9EY8GpBax3a0dkFQcHJwcwZjyVI3xHu7zlec8PBGKFPvOqS1cPRDhi6GaoAOhLVWhHR3APxkbZufWK0hBiR0BWkikglIid0U9FmJxgAiMjdRcXUmDmEQEQpJTOb5xmJUtc1OogCM3MTjBKzI6krMkm1w2Ffa7UuqWqjw0RqNQNOrVceqKYAY+JAYC6NdHZ3bPwSup8YvreDcmwd/QeA+3Xojaz2DJG8LjmoBQoOwQABNQUw92Wpqmpq1asDhBBam6PARIhqx6V23CqhlY+ZaPEW3zc3US3GiIgxRmJ2OHYtaKajtI4SaqrGROBQxZHYAYkopTj04z6wqrhHd1BzdyfEGAMhkjshDF3aDJxuSjEERPfQuvoCgDk42lt7Gr0E4rWOD6c+lO1ONF7wnbHi21/zzawbAQSyVR8SAbsxITi2AMUIEVCLqhoApBRrKTkvLfpob1pFaikI5u4cAiESghsQu4u7OzExc/NMmpcSY1Q1UQGAEAIgih6VKkeZDwATi6pWjSk1gMbVyCESYozJHNQsEvZd54im1VVcK4GsUkxkJGIcrLWsdwAAOyU93t92nyKS33e8df9E0IR1jF0iZ4SAJAburtDcA3NvnjID+EsPuu8HRFSRKqqmMbQKEnB3NTMVP/Zg5Ba44ykOaltI+xy11iUv4OBIqRvA3QBUlbCV/BC1NuoAgGRm0zyt+r6tBmZiptYpiJCkZs6hW8nZKq37ZTqWlSiAHSPuOwKad4yXqUfyb4bsew23ALLuOZKRKai1ll4A4AC1Fjk2jgGptdYqoiVnEalSVbXNVm491rwhmI/mlYiZ29R29xZPuntLH6tq+8EBWuCjqqbano+IDp5znue5VT60pM+Sl8M8G3hKXdf1AGAqzBgIENXq0rOdjZFcwNXg2CPr2OQG/H1Kd9rM+Bbb/crQvMfLwR3jQ2BjovNVx3iAU58oaKw0ODG3KUuEXdfVUq5KPkxTrdXEHMGJUkxai9RK1CymGzhRoBA4RDMvJRNRLjmE0KWu3YzmRCJgw9mRhmFUNTyZKXdzP5JiZh5iGIdh2u8a9SAijDD0nTYWDNVFQEsMsu4YrTjEdp6DGR4TmfAuKu/r6YUfZrzhMiL4dpW2q97rFZnhyXgdLR0igLdJ3XddSklUqwiHtpdgDNHNa5V2igITUYpaq5pqKboUQCBEImp5y2VZ1MxUMQRo1hyImAFYRIooVKnMMUbmFBMBkpurGwCIHEkbJCYmkWrKgYM45lpa+B/QEiO1/vgtj4fvSox/E9x/kOpBACew1cB9ApMK1sQ9RyequUbHhACxm4soc+hTqnUxq8SESKJaSnVHNRcxpIAcStUqOs9LLcIcXhZEqRkhppTCkQE/Ll5mJkJGYEITMWmhk6lmdyECYhJV4hBjJMAQkgEuRcQBmGPqAEhKJhA0CcgMAbzlLg3glQTFv+HfG+O16oW7JN/3gxsD+6pThgKAYmiijmagbkJoMbIy10JEbqKqGEIC9Dnv12d988dUvblxXddLreroGDFAH2PXDaoKQGZAFEIMRKSiIZGau1aRqkioHKOlmIwI3Ik5AEmeixaKMXKQOtci4KgKMXYpRgBK3QrAFWIMXeCw5FpKGWwOyuxMFihE8xlgOZptZwB/z+zaN1YN/36Iv1w4KYbNGOtywJpBDBBbiykEOybr2tE/jthiaPN5KXPOpdbgAVFLzWoaYyQiBxRtn4oAkAhFhBmHoSMiIlZTM52mOcToAKZetbqXCZYudqnvCMlM1UDdABxUc15KLs+fPnvx/MV6tS5LRlBAHIYxxBhCPJYKAgTCSHpxth4eL1eTuZvzcbkCkAPhezfkeDvc+PuKBU9wOzOlGGq+pVoCtBgHHKjJOgDM1U3dAZEpxEQhZrFnz27G9XY9RsQC4JGDm4mImbo7EqlKlcLEDt5cC0BMMbSeVrVWJxJ1dXAkJASnqk6ihAjW2kIjcVBRkVJL2d/cXD1/9uH9e2Ai1bxLBB4ImUCsihgiomuedrFbn23jl1NGQAKEFiG+eUTcd4T76wHL+4N+9ypTkZIpGiNEZnB3dQVndj/SeChmiJRCTKlL3TCstgqgGgyoVHUHZFaRqmqIbs6A6i5iEMgdzMTczHyaWpAGzJE55ZpFIcYYYweOpdQlKzMykqioGcfo4CoyHw7TYRr7tOq7FKgf+s1qlbrYzn9hQmDiwA66TLcYNvcuHwzXu6pqyHiaV4BH9dL7wf264PglcC8n+HdyyY/3xkFFtHrokZkCUi2ViE9Ct3YOhre2aequ4KkfHnzw8VfPnx2yr7e9gooqEwOx+PG8C0UwCMjsxK2tNODLo3IcAVNaOYaYIlAVVatARIZRTU2Z+w4cas7mIYZgsly9uP3d77788aMPh67ruhQDS83uziEK4kkYBKrKCAhls8JxhP2umhM4I5BD64L4Wp7vnXB/E2TvcfE3Io5ARImZoYIKohNAYFakWhdwcXezYxo3lyLmFIdusBCXNFz0m8vArdG5mZiaHhkucD5ykBTa6QymeGxADV3fhW6YS+WYGJqR6VrZWZt5SAjuo2jLOjJPRT5XwfV6OwwDRzagUq0nIA4AWEXNIQRgpi6xuJDP21V4dihkET06ECI4vimRfQdofyiKqoVkJoVM1cQdxKphAAA1ZyRAr6IGTjEmjkudMXSX9x89+PCzs/v3YuRWKV1rxTtElYM3JYmqSq6igkTt7IWUEofQFw0hAiBRSDEdEwLYOjAeD2Rwc3DXvGx+92XqfgMUDCBwBCLikMYxdUNIqVRZlizuYBDU2LVLsF0zPamgvQMBooMAyN2w8jvP7h9iIBMGRpNCJjXP7uyhI6bTWQgMKm0hMDMQGWI3rC8f3FttzkN/TpGZA7uTSuvW7Q5oBqfuDxww9kdBgzcVsoGBxWhELKrVADAyhSb9ajRsYjZDFwW1wMuwuqgedlOu6hG5X63HcZW6PnY9pdgB9qUs06JlkTJV23vKXVoFhiItWjOH4qhwdMa/fXy/g1zgjtVCOJE2LZaByGRF3FSkllKwQwZCxJgSMZNCjF5N1bSK1qr7Q764/9n67H7sRmdUd2bu+tBY8CbuBncRbdyIIbTuD3Y8WQSRgBJzYHYHbDFkAEACAkRgQCI3dHUyl8N+e/lBN26QI8WUxtX67DyEhMRVnapyiKlfhTTUaa4HR45FK6OnEKa5eX7mJAZGzu/J8YWj5vIVavgOt+T1lYLemugc6ce2uMyskJXzPvVsoJJLcQMMrGZeJXUpdskcOHLHEaUWEakyHZbHT6/uf/jjB7Hjrjd0EREANWueNeLR0w0JopqpugMQiAiclIveXE1upptaKH9XnOHY1B3gBjgM9z58dPHgIXKOKQ3jIKoGVS0jUvROHSIix9RtA7HJvDA4ijuQEaJXPEpl+N3S6zc4k9YO59Ucfc/kmQOYBwQMIADuQI7k4KClj/nRvU2S22oFiS2SW/N3iTg4BGKOA6A7q3BW1ZlwT5TEoZoxKBIBuZm5mlVlZg6hSRfIiBAphKYlpkAOx6XsfjwyFBoZ60AIr0qxjvokgnZwRkxxHDHG6+uviIjcc1mgbS0h1lqZg/ZD11voEg4dSo3uZF4NlShYRVDwaBDp/cOcu+mFlxi/+vmN7pt378QdnhePeY3WtAwvzrYXZ2eer8wckELivBQmDjEwH3vsAhIxJyJCF/WY0jiuYuwaXwrg1iIVaFGFm2kz3OzHtsnH0rYjc336sHCczXBHr3uaMc34OSAea+IwuNPzq+tqXlXNNMbAIeQqDpKSSyVCBwIMPGxW5dZalw+D1IiTVuV1lyD5lq3yjQdPdN0J3td9nG9YMsc3M3MiQMQUUghRs4uoOnQcQgzMMaWOObiDiJi3mAdUHZG6vl+tsZEhopZCCCGKSlmyqnIIXWJAANWXPNxLHuqVEB2A+NhA4I1FiQjQfORX39TcNKR0WIo6ipq5iQgxuAkAqQgRKbPPM3YhpITUZGXfFvi9gfhrKqq3hTmvP/lddunuv+aoBcD9ftrvD4MIMAdkNXPAEEJM8dgIRxux6iomVd2477qhUorJgVRUgwUOgYKQqFpZSl5yCKHruhD4NDmPs/tlmRu8FLqdPrKdEp6vYEAABwJQtSK16/thtTEK7siEpqJqiMeDkhAB3Fos4yopdfAepQxvPHwXvjc9k6/vja/RtfRGxVTbZPVY0QEIZg40zdNuP18kSCGauxmmlEKXToJII0QMJFXMjsxTCJGo7SJkCiKCREwUYySmnMsyzznnZc5j16WYiIiYgE7n/sEpXYj8xud/DQdsG2U7glFVNaZufXZRFAyQ3FTVTLthOBUPoEht9zQQxxjA3jI13f1ltwh/pz1pbul3YVxPpVgNO2xGGwDueJ5uIKI4BHFExHEYOXBKCVRqXqQUAwRitdo6r7lb4IhQp2lZbVoG3EUEQkDEQIF6ZuZ5mpdpXqaJiWKIXd/HLmI44XvcFtUdmOmloXkF+jEqRweA03GBRhzSUKQJuJERAc1NHajM8wBgDpGwZE0xIpKDviQq7qD9PYL4d0Ltp3LzZjv1aEnwZPSd2tYvYgZoakPfd0PfDKXWUvJc5gVCoBgJidjnuaoCUAgxPnv2vB/Pzu+du7mYNvcBkdg9hui9I2BdllLKMi/TPKWu5xRaVp5DAGyH5qIZEzdsCREIm5MK4sDt0CNXMAGEKprFjaI5LnWRWkNKtWQO0URzXkxdVHgYmvvPzIhmeiwR8m8+V/HtcLudVBxvG29MfD+JIh3AT1On7R7HJxxvBZcqCsAhdcNIgetS5+lgUlTEwAjUnawF1a3uxmwcV8+uXzx+/GRYr7ohursZmAKANQFUjACAkRgASik5lywVZiQi5kCBiMiBiTkwh8AhxhgCtXPOmB3A1ADI24lcKrVIzmXOpajnUjHPSBTMiYnAlmXCTDF1S81k1vc9kXWpjwlBTsbD39Rkv9tOfI+osskl8JiMfvWuDk3hN4yrPnQMUKUuyyQ1oxsjErGqiS0qKArmLCLPnj9Jq4tHHz26nZZp2qfujGNAABFBAGdGbJ0FWKEycdf1pRYxVVEFrVDs6KoQB44hxpj6vuehbTYE8NK+m2tr+arLsiw5zzlPOat1qy6aWq05UXc4TPvd7TCuKQRDWA672xj77QpozdCKLr4xhfPa5vZ1uE9T9vTsO09/Y6u8O9kRAM0QzVAB0KAp+wAIFUCAum6VKNd5X8skugCIlBoxgMJ0OBzy3I2bblirYvH6269+K4+f/tVffXjv/F5Zcq05pgBgAIQcjmELMSfqAAnZHESVj6004HjmtllMIRJ3MfRj3/V9SgkQAajVpLRQgUCgHfVXKwIbclETNEwk07Iss2ialjnXZeRhLnsKwUwOcyopKzloJSPHII3zcXndeXjTeONrjuD3GGiOZAZuaK2q7+gBE6226xiil10t8zLv0SUiisi0LAGD5pz3BzcOcVVV5zIbye3u8Mt/+Ls//sW/cKKSly5FTpEjt20BENVUq2jOYB5jjBK8aGt3yqGl5L3vu2EYh3EVux5br0wHPQmdTiIcBVAzC4FXm/Uwrgx5LjV5EdF5ySribm4yTftq3g19ldk5umrRomUJMAq22F3pu5RJfWe4X948BETgpmJ8KXZGcAflgPcu14QHLXsrGdUJyB1iSqauqt0QzsPKKanUUuuL6xfLMl9cXjy7enrx7PHHn33srtM8D4R8PAdbllLnZclLrodDLfnsbNv3XS1ZVUIkIjRDQFqt1uM4ptQpgIp46y2KL1tbw/EsYwBmjqnr+2Gz2RJxrVqd0RPjoKKImHjQ6swhYQzJ3D20k3XtVQPNdoTC+2+X39kzufMbmhMgOJCBHzMf6GYaE6eEeXpRds+XQ1FxcEK3GBHIRYtrQQTzqlpLLTc311fXV2k4u//w3mHZ5ZLXm8Hdcy5EHLu+9WFlDqsVYR9vXrz46qsn5+cXIeA8ZwCOXWRG5hhiWkqdlnzkaEJoBwG+bCHQzKObUwxNNzsOvVU1JcUUKMboJe+XKRMBcWQiUOfAzgwOgVvnJXhJhuJ3aX/8+xsTdwCndooykB33SndwDSHkPN8uX8ntVc0QoGu9c0T1ME9LnYYUyHmpVSSLI3BYann6/MnZ+UfDqjtMu/VmWK3XVaTUisxMcRzGnhzcUaWLnMvyxRe//eDDh33fVSm1ltU4dn13u9/f3u4dfLvZrNcbFSVyZKajd96MHRqAiAD6ZrN5+vTxPM213+xUVj0jUhGtmq3IuFrPc1VNaYjI5BhyNTtqCU7hxnfRV369OdIb2+Y7XgqbntyPl6B5Ox8Lcy6Hw7wv2XK1CikNqmKiBjqVvEiNXTJnj4NoNKd+dR66p9O8PH32ZL2+YKbW1S6m6Ihuri5I7NaOxBDiMAzj3/7d31/vbj777LMQSFV3+8P1zX6/1L4f7l1eDuPIIbi3KkIDAzdoWWlzNQRDpBg3201gnqdpUZxVBS14hYhafclTj32WPNf5rP8g8FAsXu2yOBvyK2YKv0WR+RoBe1xcL704fxfEb0b4py/R3MGW543EZSlXN9PZMLgf1OqiVfIyL1NVqajVBViZV05jVoIQY2+XDx49f/785uZ6t7+5d++BiEz7fb9eI5G5AhigNaZA1RipW68V8Vf/+OvdNF9cnl9eXrTDcs/OLtab7TiORxm72ekstda4Dd1bMbNjIAqMiF3q5nkpHgr0IpXMOgQPfFCF6UBIoqyTblZDrvzkapprVGZDBDdqcfUp3IA37e2bU/Z7dqfXO+e0uDuAEXKsUh4/3W0vkXOwvIjsynS7390YIsYUuvFmQuw6xyjK636rbPcePOrScLidpukwz9MwDByju5scM+6ABoQOgCE5AHVDP26e3+wOpWSzkPph6AEoVqF5qSIA1sXQpXYea+tvTwhkJ6UiEAKhua/X65yr8WYGKz5BnaMt7LwTzgcduujUzZJq4XKVr2cQ6hWCtxNMoYmPX3GNb8D9xtwNDq8zgm9QUC9LZfEtF7ccA2BLajgAMgUANaX9Xp6xbdMwH55f5ed1vpK6bLYX5EmMD8qCLIqR+1XYzuWWqf/gg4/lPGvxZZ7NLMbYKppOfgV6c3ORqipxxNhlseg8zfW3Xz5BhFLk00ef/OjHP05IROTmJmqM4IZ0OujdAVoaBoGYYoxnZ1tRnNNFyW6V2aWay1KqjQpskhw6HjZ5ob2WwlvAwTwczw4DBWjJ5q/7gse97LXZ3W4QvswxOgCAv0qI0fGUJAsA5NAUHS01p4DqrzTliOiE0KrtFMYXy6xAzttqu6UyQ++StJIX8GE9lU4qXGwShghOkpX67v7lGQKp4bzM3XxY8aYdrnhMpRMCQDVXcwXa3n/w4Wc/Qw4W08Gg1gwWZ0uAKYY0dERuqrWdnf2SKDcE9ZZsNmSOXRxWq42g4QAVspUYqGDEfgypoIMgO6XCZ7V2k7IQVXQAc39Vzd82B3yF8SvIqeVSXsJtCErYDqZCOFGk4EZggOhN1SfgHXgEXADMvQNnoBnQ/XjyTuOQ3aC0VkVCQ6lxQuuow3GjYadSchwMO4WktJ6FQJfLSEyy6TCLaxZad6vNGQK4a61lnueu65oKGcDdEABZIQIUs7Q92zz6yVyCY+9IaBlMdz4+2xnIwUJZrzpkMghyDL/cwFtq9aX7RilyH5OkFdiq6O3khbbV13FwdkFzxGBA1cmMFdgd3TJgS1S6ATXsXzcfrbkrAoC53VUQBgd0YAPAdruOmwqooVE7RbAaCboCBHeFY+saQLTjS7+sRQc3V8BWAU3VEhpXjwSJ4oWRKAUDLuqlRgjMahzDauigi6zJWv8T5tXQI7qauXutFZq4oeUcHUDaOdugTsadUGcwACJwRyT77DeHcn9MJS8LSeh6C4hISARA7sfTdxDBoZ1CbB6Iu9ABdtEcvXisRAbIoIjgSHo8kNSOOSFUOLb6bjxMS1m/MsdHj/yU07hLGgZ0Rg3QagaPzQdamoRR0cH1+FBLeAugAxyPb0J/qd+3U57tRBm6iZk4ugXSMRAhgYCLSZYqRClE5tSlYehH2KwZJNcMqI4C6NwIQOTjajUDOB2JaqgAgKitlBQYgI+aa2RTyUVCXI/dCrxUUUBjNgJyPPpuLeXjBqqq6oQUU4fYcbATYHTMWbxMDJ6kpl8z0M0+0eu/wssnv0HQBjRCI+TTax451XYMPTmZAZ9mvNCxb5W1tFWTxh8vOVKRL/0hMV/EB7OIlswTNY08FAVFYndmSikNKXU8jmSZM8aIajXnBVKXUtckDMdOD203dgRHM4CAZmBHD+z4zwEVqKlWurPRBNtJa2auLg5keMoqIzR1ijsQhZSIsQ98lNQinXzHl0WT7t94zN+rdlHH5572Rjveu7twuwlodTRHcwICPPHZhgAE5BYc28buAAG9URAE7WQZM0AjPu4epnZSiGXznZogbszZAbBR+2TA6sTgyKE1FY3cdSY9EmBgd221M9ZkDACnzK+7A5qbk4MjtHoQOi1rhFaq7OAYuOuRDeSYwAQAVTUQBUJCfhnTOyIQAnBIIfQAu8YsGhB5ay/mDmhHTfrrrOmp1s29feVXi6Gl81rppzsejz9HBIAAns32ZGRE6O00LHcTwsrMDkGNGRlcVBeihJjad0eIDtVdzKuBMoOD5ZJD6BCDQ5F6jZhjH4sLoTJGxwq4VNsHWgGmVgiGhH3XkQ14Uk6FwIhopoDUPJPGEZsd9bJIbGYxxRgD1OPsOCoaiOdSl1x1YOQAUo8rulVAkYNTSz6Zt7gy1VoDM4ZYS5VaK4g7wcsuiM2Ve3VWAMDp9CvCo4L3tL6PcKtWUQmBUkzu0M7OPc7uEHIMN0g9QN968yEaQGXKzC6SAm7BYV5ulnwzDpddIncFJzdHshBATGo9tMI9NWFHZnBTWSZQWTyWysBzzwOaIuRad0QRuEk1DQBCiJ4SMYkf9T94KqhtBU6t5Uvrs8YeEK2KmolocUcDaR0e2pybS3l+dXNvtVl3MYAXNTOhlsF8eci5OwAxsgMyxxi74l6lNlzo2MyjnV9+6vZ31/1wB/dSKyIRc9t0/Zi2NUDL+TDPenZ+ZsqE8aVuOxge1J4RbsHJjAASeEVacnm+5CnFi4hxWfLh8EXV/dhHQnaogNyWt2hxyIA5l8ndazVEbxIodloO837/ZFxfuFcDC0xalrIsMYladTIgJ4TADJqYIzmIHjvF+LFTFcgJbrVmURSAFez65tk03QJfmJCYMRmFYBbMATkQxypLrlUUEDAyO3hp+hYHAGQiAxeRlPq+76W0vj96VLWbHcWfwAbNJTjZ7qNb6ss8pZSYh1YHA9BcOyU0lVJqMRlUGTi0nRARg9abafldSko0uHZI4KoERW0n9Tl6pdCpzMv82PFgOqgYQHFgFDUMaovjAlgQy36/U4FAyIQRma2XKc86D6ttKUusEKmb9vv97T515wRL6FNM7GBIRBy0ihsSMwO08mw1hZbHPHYnaIWjxgxFyuPHv725LavzzbE0LSA5GwBx7PsBANqhOUBESOpmouJ62l3bEYmMSP3Qx5i4ChGJqrvXUiOdmCd3wPaz353c5rbkmYi6zk/nD5qDIikgBCZzUK2qRnRMMwJ4mPJXOf8u8DZAdZhdJqLCmM2r2zJPT8IYEEuKN9N8W/PIUEQXNye8BV8hu+iN08TBpTzPs0eq7Bm4c51ruYkxRjgo7G05qK/3N1/sb25XQwdySOt72x5BijMDsbqIaiBGBDf1YxcjUDMAJCZHNQEn4BDrfrl5sZv2uzSGWr1UCnABFMAJgqmXUrVHTxjMWU2zzKLFmWPsmKM7tF19vR6GYWiy75AQfUG9tRo0ppasaxyUYQWnKhWphhDco7lWncRAbRCpTR5nnsEqJQffo2dXNqUKHsKAlKpY2O2f5PrkHv80cnYvVW8SQ6nLzfXTaX469jFwLmXiUFVvpplUdjnnKjMA9+HROI65Pla46YcQKO+WZac7KdvNeFZqnvJvBtoy+BBuwYOV7bz/x7wsXte7fbH1T+4NfxK0mEaMEc3Bsqt6KzE97eanWncgRGAgJqeI3ifsyvTr66tnRUrJXXf5zxKOTICeix4Ue1MAZXesphUEI/WpZ45mKCKINI593/fgkEsGovU69qkcylci4LrKyl3aMPXmBpQF0uGwR96vViuGjZk47nOVVIe85BgSIojsxXaEOM9PpNQ+iCotft2lyxi3RT0AqMiN4VdFWs5tFivTvL+6/rLWeRwu9vurabntumier68npp6Iap1rrQ8uh2nZzeVx6vM01SLOER2g5CK9LrIT+EqhZBHAQ4zjPE9qVxwspuKSrR66QGQuIt3QBYhSxUQYiSnAKe5CMxEzM0cMIQCRqnV9tz1b4dN8e/NV0dl0nccPU9hSHHLe5QzoXYuUCTHFSNwjAziWWhGo77su9cMwIvE8z7lU7NPD+2dd1K+eP6kACc7MY85zCsOyLJyAaZwPV6FbmOYuGKCZ7qrNC4ZlFhwH97rkq3n5iqhD2GmV6UDEXRZdljIMCtiHPvaEovY702fTQVLikGrsNaTniOwwqx1Errp+INZalkCGBMMKYKqH+TESId2UOi/5QJAQ++3Z2lSKPAXOiLdqtdTiOLuvb3cWQ0Xgpdygc+wY0RqnBeYxJk0qaq3D4svI4cSpOQISUSthYIYYzXSa881cdkz1MD0+P38gWsjnPl62M+gRkQiIQ0hoIKIeA4eQUuq7riPmvJRlmR0omF2erTrW+fDUA+dy1Q9rDH3ROO0PoUtDf37YPx7MQGO3dWKyel1VXSpYJ7LUcpiWJ7f73yGlGGKpqiKrzaaUXMrCPMTAAZxNpejTFOJSJsN+M4QQZb2u+1uf55sQaz8gUlErQBzTwExdT/OyXF3/5uLyYr3xXKfVGt0sLwvgrkoRlX5I44Zq3c85iywxzOYdMzHH/e4ZCPf9nwBp83+rSBdTShFFAfRlGOfehLUUjy10vZRjU9Z5fnGYXxjOMWmgCnQb4m65vb083242KzAUUTBDk1bXYeyIBOAiAlCIuBbZ7Q7g2HWDSXWQs3UHulcTiCC63+0KOcTQS+krzSBPy2xeg/QeY0C99locLcYLrXOtV0v+otYv93vsuxXCSBDAQGVvmgkfIvaBqQvY73fPz8671JubMI95uQkhdCnWXClBTKnWBUy1qoTy8MFHxHpzfTXNz9fVzbnrDNBj6CJbyVdLWfq+VxWXYprNVKW6TkPfqRACcofc8WodicwJVFXmwqmLMXqUWk4EkLf+fQTE7l5E2oEtjACYr66/mKYXcaMccLPuUipffPkfE50//NlHqz6hIxG2KKxmLSaGBggxpu32bBgGN7+93ZdSx3Ht4NO0F58vtqPJIdsuABbxWup63HSduZfD7nngQkCuvkylBkY7BLI+hu35xXQ43CyP8/JkHOo4Ul5eBPLz7aXiovKCEcZUxA9huz7fDBc304uyLNvN1jVKru5h1a9XaXNzMxELenWDQIxdXK/GcRhVly5FJp2mmxBpWCOh37/34NbmZT4gFBVYj+e31zch6KMPP7662t3eHABKF/uuGykmEAQUQCUKqp5LCbmkYSBuJaqtG3eL7sjca20Hc6mbEZLodJheAJZ5OuQ6n2/PpsPzr57efPzgj842YeijTsqpA8WSq5pYNSenjlJKXdcT4f4wzfMUYx9jLKWWnBVq3yeEWsotp3iYbmvVFMVsSXFTyj7nnGIfAud8SJ6YUcoiau5btankK5XDsIl9wrosYPt5emboBDnFgrjTOgV034xr1XOr+26THPnqamHuwqpLPUuh69uZWB4+uFerlgwp9iXP+/2LGOjBg3sx0vaMiu5qkSdffBXCEDl064iIIbCJCcw572rJKUEMYpKRupRYAJe8czAiJCKvMk3z2HWNH5XaGoc6czB3Fasiao5IkQnRVOZhxPPt8Ltnz/eHvZQyL4UpM+xXI66G4fZwENGAblCRfBgGTiEM3PeDmb14cbXb7ZlC3/eIWGuNoTs/O5vqLgTu+8TRufi8zHNOrkuXaowoyy4AEieFRa0yD0QKeLi6+ic3vtiOY74gWEAVTcFnhEmqaM2K/WH/5VwszPNtLdPl2cOrmyXPc+SOPZYDFBbRZ+oVcGH2kFRMiJG4llLFphDg/r17fd/P+fnQrQ+7F7/5/Dc/+vQnw7DquoBkUg1QY+c3t09F4/ZsZC63V5WrjdsL8GRemYENwUMCmpZlmg5D18UQparWAo3kZXIwNyekECK5G05VDrVM46q/lIsqcnOzc7cUMYXiMgWmcVjNu1vHCgApxb5fcYwQzM12u9319c4dLi82XZdKqW4+jpth6J+/uJ6Wsr7YVJxS342I47BaJi1lES0pAaHHLnRDV0oteXGo5kuKyLgy4S6exbgW2ZWQTQ1xAVMpi9sNMjpQiB2ozmZ9142EOSaMXVxmc3P1eSmH9XZDJDe3z8BZKp1fnN9cXS/L7bBaPbh/f5nLzU7GmAKnaT+D03q1Tn2odb69eW6Wmd2xrDarlGA3vSgSekS1KDI4iKpJLiHElMKS8fZ2Fy+466MDqJuooTuoi7qoIjEyOehhOhwONxSMDbbnZ86h1rrMcx8ZQQ6768Nhxz46gpi0coOaWz8myTlP02yG2+3ZdrsFoJwzIMaYci6//OUvp+Uw8nroxsNyYIq1tXRHVy9gIDrjDNVm5piLITtZQayH6VozP3zwwTjGw8E2D4fnV1/d3r7oh21KaV5mChj7GBA9RBeZxjECi2OFoJjkdrYeoeu7YYzzXHIu69VZzpkZx9V4df28ZsvLXqSmGA+7abNZXV7c46h9j6nv3DKobdfjZkPDEIbxrJQSuT87C/3oS37qcpYLLqW3LFF2XR871sNUbne7zWblbP2qn+cMyOrgxCF2gKgAqnW/7J9ePQXWpeympYzjapnpsJsWFUQSKfvdlZcF1LpIraXmPmd1r1bMlIg32+352RkxT4elVkupJ+LfPf38l//pPyLlFFdiUpeCSG5lMyaO3KjveTL3XHLpuhATA/p+vzS6yZAO+fnV7bzk/WYzZtVi0hONQy+yV8k2zWEzXnz6wU9TT8RKLLkWvfCcdZ5L34/D0CF6s6SBu1rl/Oyiat3fZA7kLhzqMAwqJUX8y7/8iyVfGRSTEEMY+/7ifDOsWS3XJS+5prBebRJH2+3mFHhcnSGvUy/z7ktwTHG1EEzLwaDkIucX98bNar9fSi0pDcO4MrM558Xy7Xzzq3/65b7ezvNBHVg1hXhxdnF99awWJcYQ4LCfAgQPARw4sC5lycXMED0OcbNedV1Ycj5MGYBjHDixYXGsIfr5+fp2fxsDJ+7ApYs+btKSlUMs9SYQnZ9/sN/PVTKHUBbZ+6HrEjHtDk/nZVbVpU5dSpuzM+KYQscRS1lKXcJf/dl/86c/+c+QsJHtZgZHRQy0YotWht7EluDubjeH5z//8O+fXP3Trx//zfOr35lRqSVp/OijD794vBCxu7V0uQMyh3kp+/0BKETq3D3n2R1CjOMwEhI1J68qkJaaKVKpIFWur68efvgRMZSyEHMwVrWqWWC+nZ5f3TynEYZxc3N7mA9lHFYP752xl1wXMenHHgWtGCC4IzGtt9uVAQcGMDGJMSJgzsVMU+xCjKq23Z7du3//H3/7u5wzBybiEKNVnQ77uUzqmro+L4tHSCmZ7Q7THpFFJER096q1tYAztyqVme9tz5i63X6+uNiq908efxHWw3bsty9DuG+Vuzn4vfNHP3n0zw7z7X/41b/7v/7f/4//9MXfSxWzlPMCQKWUWqa+jwCGqKXMMdL5xdm8iJqXks2LVJtLBnMAU6mBo4HMc77dX/er1Hdj6vrr29vNdrverJhZFJY81yriZZabF/sn1QtWozj0XdhfHyxIF/jRB/eeP7t69uKZunT9ulg1LVUqGq/W26EfmAkJrq6vDoeDqC9LRgrjOATmUuo4bs7PL/CLsCwF2BmJCYFgWiaZZL1dr1cjE7nT1dWLJWdEqGVx8GEYui5N03RxcQHgn3/+m6ZMQwQO1HUxRCbT1XoI5vZ7nfuKm/H8P/+z//Zsdf///D/87//6l/+vrluZmVYNCc0FMLpro+VDQMRYlXZXV7v9Mq5DmR3RUuy01lWfUPucFwBcynyQF48++JGqM/HjL7/85LNP1+t+mvM8L9OUF50fX//m6YsvMALHxJyGy3NUZigpgolsz8d5OeSyXK7uSdH9fi516fr+5ubmcJgIIUS+ub2JMYq6CAzD2A+9GxGgA3/w8OPLx/cRgEMYVisrNYQwDAMG6Ib+/OJstVpdXd3WogBOjA6OCCmlzWYDACJ1HFfjOHZd5+6qplL7tBYBN+zSeGz5/t3/mZky8Z/85F/+m7/836bYx9AN/UCts22r5uPWoDUseXn+4rnU0tSaJesyF3SKIdWSU4oxRqQAxFXLbrqicBQvv3jx7Pr6WdVlydOyzFXyNO0O006sdqseCUPgse9D4M1mfXm2VS2r1RhiKDVzCCGGJedSMiDsD4frm5vb29v9fp9zERERQcCUEhG6OzMjhw8/fLRebVSMibuYVKVl3larEcADMYCripkRYt/1iMjMSNgPfQzx+fMXt7e3q9UqhHB2djYMPQGF0KsSYWLq/n+oA3dmU98jRgAAAABJRU5ErkJggg==\n",
                "text/plain": "<PIL.Image.Image image mode=RGB size=122x128 at 0x7F5970828CC0>"
              }
            ],
            "_view_module": "@jupyter-widgets/output",
            "_model_module_version": "1.0.0",
            "_view_count": null,
            "_view_module_version": "1.0.0",
            "layout": "IPY_MODEL_5c8709b1ff0241fb983affe428401736",
            "_model_module": "@jupyter-widgets/output"
          }
        },
        "5c8709b1ff0241fb983affe428401736": {
          "model_module": "@jupyter-widgets/base",
          "model_name": "LayoutModel",
          "state": {
            "_view_name": "LayoutView",
            "grid_template_rows": null,
            "right": null,
            "justify_content": null,
            "_view_module": "@jupyter-widgets/base",
            "overflow": null,
            "_model_module_version": "1.2.0",
            "_view_count": null,
            "flex_flow": null,
            "width": null,
            "min_width": null,
            "border": null,
            "align_items": null,
            "bottom": null,
            "_model_module": "@jupyter-widgets/base",
            "top": null,
            "grid_column": null,
            "overflow_y": null,
            "overflow_x": null,
            "grid_auto_flow": null,
            "grid_area": null,
            "grid_template_columns": null,
            "flex": null,
            "_model_name": "LayoutModel",
            "justify_items": null,
            "grid_row": null,
            "max_height": null,
            "align_content": null,
            "visibility": null,
            "align_self": null,
            "height": null,
            "min_height": null,
            "padding": null,
            "grid_auto_rows": null,
            "grid_gap": null,
            "max_width": null,
            "order": null,
            "_view_module_version": "1.2.0",
            "grid_template_areas": null,
            "object_position": null,
            "object_fit": null,
            "grid_auto_columns": null,
            "margin": null,
            "display": null,
            "left": null
          }
        },
        "bdc5c22c924d479ca2b53153ca701c4b": {
          "model_module": "@jupyter-widgets/controls",
          "model_name": "LabelModel",
          "state": {
            "_view_name": "LabelView",
            "style": "IPY_MODEL_375b8be0c08c4da7bbf4333f42cfd40f",
            "_dom_classes": [],
            "description": "",
            "_model_name": "LabelModel",
            "placeholder": "​",
            "_view_module": "@jupyter-widgets/controls",
            "_model_module_version": "1.5.0",
            "value": "Prediction: teddy; Probability: 1.0000",
            "_view_count": null,
            "_view_module_version": "1.5.0",
            "description_tooltip": null,
            "_model_module": "@jupyter-widgets/controls",
            "layout": "IPY_MODEL_255d273eba6f4f63b15e83b005a96cc6"
          }
        },
        "375b8be0c08c4da7bbf4333f42cfd40f": {
          "model_module": "@jupyter-widgets/controls",
          "model_name": "DescriptionStyleModel",
          "state": {
            "_view_name": "StyleView",
            "_model_name": "DescriptionStyleModel",
            "description_width": "",
            "_view_module": "@jupyter-widgets/base",
            "_model_module_version": "1.5.0",
            "_view_count": null,
            "_view_module_version": "1.2.0",
            "_model_module": "@jupyter-widgets/controls"
          }
        },
        "255d273eba6f4f63b15e83b005a96cc6": {
          "model_module": "@jupyter-widgets/base",
          "model_name": "LayoutModel",
          "state": {
            "_view_name": "LayoutView",
            "grid_template_rows": null,
            "right": null,
            "justify_content": null,
            "_view_module": "@jupyter-widgets/base",
            "overflow": null,
            "_model_module_version": "1.2.0",
            "_view_count": null,
            "flex_flow": null,
            "width": null,
            "min_width": null,
            "border": null,
            "align_items": null,
            "bottom": null,
            "_model_module": "@jupyter-widgets/base",
            "top": null,
            "grid_column": null,
            "overflow_y": null,
            "overflow_x": null,
            "grid_auto_flow": null,
            "grid_area": null,
            "grid_template_columns": null,
            "flex": null,
            "_model_name": "LayoutModel",
            "justify_items": null,
            "grid_row": null,
            "max_height": null,
            "align_content": null,
            "visibility": null,
            "align_self": null,
            "height": null,
            "min_height": null,
            "padding": null,
            "grid_auto_rows": null,
            "grid_gap": null,
            "max_width": null,
            "order": null,
            "_view_module_version": "1.2.0",
            "grid_template_areas": null,
            "object_position": null,
            "object_fit": null,
            "grid_auto_columns": null,
            "margin": null,
            "display": null,
            "left": null
          }
        },
        "70d366a08c794f7bbaa3c93cdd1db3f3": {
          "model_module": "@jupyter-widgets/controls",
          "model_name": "ButtonModel",
          "state": {
            "_view_name": "ButtonView",
            "style": "IPY_MODEL_45f1ae5f1e96402bb27740295443c5f0",
            "_dom_classes": [],
            "description": "Classify",
            "_model_name": "ButtonModel",
            "button_style": "",
            "_view_module": "@jupyter-widgets/controls",
            "_model_module_version": "1.5.0",
            "tooltip": "",
            "_view_count": null,
            "disabled": false,
            "_view_module_version": "1.5.0",
            "layout": "IPY_MODEL_35e2bf7bc200449ea6590b0a8d4a82db",
            "_model_module": "@jupyter-widgets/controls",
            "icon": ""
          }
        },
        "45f1ae5f1e96402bb27740295443c5f0": {
          "model_module": "@jupyter-widgets/controls",
          "model_name": "ButtonStyleModel",
          "state": {
            "_view_name": "StyleView",
            "_model_name": "ButtonStyleModel",
            "_view_module": "@jupyter-widgets/base",
            "_model_module_version": "1.5.0",
            "_view_count": null,
            "button_color": null,
            "font_weight": "",
            "_view_module_version": "1.2.0",
            "_model_module": "@jupyter-widgets/controls"
          }
        },
        "35e2bf7bc200449ea6590b0a8d4a82db": {
          "model_module": "@jupyter-widgets/base",
          "model_name": "LayoutModel",
          "state": {
            "_view_name": "LayoutView",
            "grid_template_rows": null,
            "right": null,
            "justify_content": null,
            "_view_module": "@jupyter-widgets/base",
            "overflow": null,
            "_model_module_version": "1.2.0",
            "_view_count": null,
            "flex_flow": null,
            "width": null,
            "min_width": null,
            "border": null,
            "align_items": null,
            "bottom": null,
            "_model_module": "@jupyter-widgets/base",
            "top": null,
            "grid_column": null,
            "overflow_y": null,
            "overflow_x": null,
            "grid_auto_flow": null,
            "grid_area": null,
            "grid_template_columns": null,
            "flex": null,
            "_model_name": "LayoutModel",
            "justify_items": null,
            "grid_row": null,
            "max_height": null,
            "align_content": null,
            "visibility": null,
            "align_self": null,
            "height": null,
            "min_height": null,
            "padding": null,
            "grid_auto_rows": null,
            "grid_gap": null,
            "max_width": null,
            "order": null,
            "_view_module_version": "1.2.0",
            "grid_template_areas": null,
            "object_position": null,
            "object_fit": null,
            "grid_auto_columns": null,
            "margin": null,
            "display": null,
            "left": null
          }
        },
        "6c88b16c26e94eb3bfbc696b776bd45b": {
          "model_module": "@jupyter-widgets/controls",
          "model_name": "VBoxModel",
          "state": {
            "_view_name": "VBoxView",
            "_dom_classes": [],
            "_model_name": "VBoxModel",
            "_view_module": "@jupyter-widgets/controls",
            "_model_module_version": "1.5.0",
            "_view_count": null,
            "_view_module_version": "1.5.0",
            "box_style": "",
            "layout": "IPY_MODEL_c8aec4600f604488ad026831346145cc",
            "_model_module": "@jupyter-widgets/controls",
            "children": [
              "IPY_MODEL_0eed50d5c74c45b0bc16d78a5f0008fe",
              "IPY_MODEL_1d62de265997496e95de5c26a87f795f",
              "IPY_MODEL_70d366a08c794f7bbaa3c93cdd1db3f3",
              "IPY_MODEL_6f6c397c0ba448cba839dc0c94d626d5",
              "IPY_MODEL_bdc5c22c924d479ca2b53153ca701c4b"
            ]
          }
        },
        "c8aec4600f604488ad026831346145cc": {
          "model_module": "@jupyter-widgets/base",
          "model_name": "LayoutModel",
          "state": {
            "_view_name": "LayoutView",
            "grid_template_rows": null,
            "right": null,
            "justify_content": null,
            "_view_module": "@jupyter-widgets/base",
            "overflow": null,
            "_model_module_version": "1.2.0",
            "_view_count": null,
            "flex_flow": null,
            "width": null,
            "min_width": null,
            "border": null,
            "align_items": null,
            "bottom": null,
            "_model_module": "@jupyter-widgets/base",
            "top": null,
            "grid_column": null,
            "overflow_y": null,
            "overflow_x": null,
            "grid_auto_flow": null,
            "grid_area": null,
            "grid_template_columns": null,
            "flex": null,
            "_model_name": "LayoutModel",
            "justify_items": null,
            "grid_row": null,
            "max_height": null,
            "align_content": null,
            "visibility": null,
            "align_self": null,
            "height": null,
            "min_height": null,
            "padding": null,
            "grid_auto_rows": null,
            "grid_gap": null,
            "max_width": null,
            "order": null,
            "_view_module_version": "1.2.0",
            "grid_template_areas": null,
            "object_position": null,
            "object_fit": null,
            "grid_auto_columns": null,
            "margin": null,
            "display": null,
            "left": null
          }
        },
        "0eed50d5c74c45b0bc16d78a5f0008fe": {
          "model_module": "@jupyter-widgets/controls",
          "model_name": "LabelModel",
          "state": {
            "_view_name": "LabelView",
            "style": "IPY_MODEL_20e4e3f966e44f109d52817e07cdb31a",
            "_dom_classes": [],
            "description": "",
            "_model_name": "LabelModel",
            "placeholder": "​",
            "_view_module": "@jupyter-widgets/controls",
            "_model_module_version": "1.5.0",
            "value": "Select your bear!",
            "_view_count": null,
            "_view_module_version": "1.5.0",
            "description_tooltip": null,
            "_model_module": "@jupyter-widgets/controls",
            "layout": "IPY_MODEL_4ea798ae554d494798f4dbc5b5c506c4"
          }
        },
        "1d62de265997496e95de5c26a87f795f": {
          "model_module": "@jupyter-widgets/controls",
          "model_name": "FileUploadModel",
          "state": {
            "_view_name": "FileUploadView",
            "_counter": 1,
            "style": "IPY_MODEL_f490798738434e419ca46ff66d30beda",
            "_dom_classes": [],
            "description": "Upload",
            "multiple": false,
            "_model_name": "FileUploadModel",
            "data": [
              null
            ],
            "button_style": "",
            "_view_module": "@jupyter-widgets/controls",
            "_model_module_version": "1.5.0",
            "accept": "",
            "_view_count": null,
            "disabled": false,
            "_view_module_version": "1.5.0",
            "error": "",
            "description_tooltip": null,
            "metadata": [
              {
                "name": "teddy.png",
                "type": "image/png",
                "size": 42171,
                "lastModified": 1609793022691
              }
            ],
            "_model_module": "@jupyter-widgets/controls",
            "layout": "IPY_MODEL_e1f7c3e7239146a0b348aaacb88a527f",
            "icon": "upload"
          }
        },
        "20e4e3f966e44f109d52817e07cdb31a": {
          "model_module": "@jupyter-widgets/controls",
          "model_name": "DescriptionStyleModel",
          "state": {
            "_view_name": "StyleView",
            "_model_name": "DescriptionStyleModel",
            "description_width": "",
            "_view_module": "@jupyter-widgets/base",
            "_model_module_version": "1.5.0",
            "_view_count": null,
            "_view_module_version": "1.2.0",
            "_model_module": "@jupyter-widgets/controls"
          }
        },
        "4ea798ae554d494798f4dbc5b5c506c4": {
          "model_module": "@jupyter-widgets/base",
          "model_name": "LayoutModel",
          "state": {
            "_view_name": "LayoutView",
            "grid_template_rows": null,
            "right": null,
            "justify_content": null,
            "_view_module": "@jupyter-widgets/base",
            "overflow": null,
            "_model_module_version": "1.2.0",
            "_view_count": null,
            "flex_flow": null,
            "width": null,
            "min_width": null,
            "border": null,
            "align_items": null,
            "bottom": null,
            "_model_module": "@jupyter-widgets/base",
            "top": null,
            "grid_column": null,
            "overflow_y": null,
            "overflow_x": null,
            "grid_auto_flow": null,
            "grid_area": null,
            "grid_template_columns": null,
            "flex": null,
            "_model_name": "LayoutModel",
            "justify_items": null,
            "grid_row": null,
            "max_height": null,
            "align_content": null,
            "visibility": null,
            "align_self": null,
            "height": null,
            "min_height": null,
            "padding": null,
            "grid_auto_rows": null,
            "grid_gap": null,
            "max_width": null,
            "order": null,
            "_view_module_version": "1.2.0",
            "grid_template_areas": null,
            "object_position": null,
            "object_fit": null,
            "grid_auto_columns": null,
            "margin": null,
            "display": null,
            "left": null
          }
        },
        "f490798738434e419ca46ff66d30beda": {
          "model_module": "@jupyter-widgets/controls",
          "model_name": "ButtonStyleModel",
          "state": {
            "_view_name": "StyleView",
            "_model_name": "ButtonStyleModel",
            "_view_module": "@jupyter-widgets/base",
            "_model_module_version": "1.5.0",
            "_view_count": null,
            "button_color": null,
            "font_weight": "",
            "_view_module_version": "1.2.0",
            "_model_module": "@jupyter-widgets/controls"
          }
        },
        "e1f7c3e7239146a0b348aaacb88a527f": {
          "model_module": "@jupyter-widgets/base",
          "model_name": "LayoutModel",
          "state": {
            "_view_name": "LayoutView",
            "grid_template_rows": null,
            "right": null,
            "justify_content": null,
            "_view_module": "@jupyter-widgets/base",
            "overflow": null,
            "_model_module_version": "1.2.0",
            "_view_count": null,
            "flex_flow": null,
            "width": null,
            "min_width": null,
            "border": null,
            "align_items": null,
            "bottom": null,
            "_model_module": "@jupyter-widgets/base",
            "top": null,
            "grid_column": null,
            "overflow_y": null,
            "overflow_x": null,
            "grid_auto_flow": null,
            "grid_area": null,
            "grid_template_columns": null,
            "flex": null,
            "_model_name": "LayoutModel",
            "justify_items": null,
            "grid_row": null,
            "max_height": null,
            "align_content": null,
            "visibility": null,
            "align_self": null,
            "height": null,
            "min_height": null,
            "padding": null,
            "grid_auto_rows": null,
            "grid_gap": null,
            "max_width": null,
            "order": null,
            "_view_module_version": "1.2.0",
            "grid_template_areas": null,
            "object_position": null,
            "object_fit": null,
            "grid_auto_columns": null,
            "margin": null,
            "display": null,
            "left": null
          }
        }
      }
    }
  },
  "cells": [
    {
      "cell_type": "code",
      "metadata": {
        "colab": {
          "base_uri": "https://localhost:8080/"
        },
        "id": "jWwbwd94OIAv",
        "outputId": "476019c5-9e5a-4e16-ab61-da90e7937102"
      },
      "source": [
        "!pip install -Uqq fastbook"
      ],
      "execution_count": 1,
      "outputs": [
        {
          "output_type": "stream",
          "text": [
            "\u001b[K     |████████████████████████████████| 727kB 7.0MB/s \n",
            "\u001b[K     |████████████████████████████████| 51kB 5.9MB/s \n",
            "\u001b[K     |████████████████████████████████| 194kB 17.1MB/s \n",
            "\u001b[K     |████████████████████████████████| 1.1MB 21.7MB/s \n",
            "\u001b[K     |████████████████████████████████| 61kB 7.1MB/s \n",
            "\u001b[?25h"
          ],
          "name": "stdout"
        }
      ]
    },
    {
      "cell_type": "code",
      "metadata": {
        "colab": {
          "base_uri": "https://localhost:8080/"
        },
        "id": "yFaPfAI3ORxM",
        "outputId": "a061f69b-e2b5-474e-c7d0-a4b58fcd4c1c"
      },
      "source": [
        "import fastbook\r\n",
        "fastbook.setup_book()\r\n",
        "from fastbook import *\r\n",
        "from fastai.vision.widgets import *"
      ],
      "execution_count": 1,
      "outputs": [
        {
          "output_type": "stream",
          "text": [
            "Mounted at /content/gdrive\n"
          ],
          "name": "stdout"
        }
      ]
    },
    {
      "cell_type": "code",
      "metadata": {
        "colab": {
          "base_uri": "https://localhost:8080/"
        },
        "id": "yV3sFSlnQKXm",
        "outputId": "f5a99c10-3ece-4eb1-b5ce-d0a26f44963d"
      },
      "source": [
        "path = Path()\r\n",
        "path.ls(file_exts='.pkl')"
      ],
      "execution_count": 30,
      "outputs": [
        {
          "output_type": "execute_result",
          "data": {
            "text/plain": [
              "(#1) [Path('bear_classifier.pkl')]"
            ]
          },
          "metadata": {
            "tags": []
          },
          "execution_count": 30
        }
      ]
    },
    {
      "cell_type": "code",
      "metadata": {
        "id": "CHyQhrzQOYI-"
      },
      "source": [
        "learn_inf = load_learner(path/'bear_classifier.pkl')"
      ],
      "execution_count": 31,
      "outputs": []
    },
    {
      "cell_type": "code",
      "metadata": {
        "colab": {
          "base_uri": "https://localhost:8080/",
          "height": 49,
          "referenced_widgets": [
            "3d2fa24bea284c3e9df064563748d37e",
            "50de2da9f72945d5b2f3c2a1f2c71083",
            "b4e5742cae60464fb04952e02fe69199"
          ]
        },
        "id": "XD-PopoiRbtZ",
        "outputId": "19977f75-2b47-495f-c674-f8b1943f6e66"
      },
      "source": [
        "btn_upload = widgets.FileUpload()\r\n",
        "btn_upload"
      ],
      "execution_count": 21,
      "outputs": [
        {
          "output_type": "display_data",
          "data": {
            "application/vnd.jupyter.widget-view+json": {
              "model_id": "3d2fa24bea284c3e9df064563748d37e",
              "version_minor": 0,
              "version_major": 2
            },
            "text/plain": [
              "FileUpload(value={}, description='Upload')"
            ]
          },
          "metadata": {
            "tags": []
          }
        }
      ]
    },
    {
      "cell_type": "code",
      "metadata": {
        "id": "-OP2C_lERy3g"
      },
      "source": [
        "img = PILImage.create(btn_upload.data[-1])"
      ],
      "execution_count": 26,
      "outputs": []
    },
    {
      "cell_type": "code",
      "metadata": {
        "colab": {
          "base_uri": "https://localhost:8080/",
          "height": 145,
          "referenced_widgets": [
            "6f6c397c0ba448cba839dc0c94d626d5",
            "5c8709b1ff0241fb983affe428401736"
          ]
        },
        "id": "IWcbR8pJRsSb",
        "outputId": "b2b1af6e-cfc9-45bc-8387-bc6b8044e9be"
      },
      "source": [
        "out_pl = widgets.Output()\r\n",
        "out_pl.clear_output()\r\n",
        "with out_pl: display(img.to_thumb(128,128))\r\n",
        "out_pl"
      ],
      "execution_count": 27,
      "outputs": [
        {
          "output_type": "display_data",
          "data": {
            "application/vnd.jupyter.widget-view+json": {
              "model_id": "6f6c397c0ba448cba839dc0c94d626d5",
              "version_minor": 0,
              "version_major": 2
            },
            "text/plain": [
              "Output()"
            ]
          },
          "metadata": {
            "tags": []
          }
        }
      ]
    },
    {
      "cell_type": "code",
      "metadata": {
        "colab": {
          "base_uri": "https://localhost:8080/",
          "height": 17
        },
        "id": "xtHRJAOASI_E",
        "outputId": "376e732b-191b-40fe-ab95-7713857dfbfd"
      },
      "source": [
        "pred,pred_idx,probs = learn_inf.predict(img)"
      ],
      "execution_count": 32,
      "outputs": [
        {
          "output_type": "display_data",
          "data": {
            "text/html": [
              ""
            ],
            "text/plain": [
              "<IPython.core.display.HTML object>"
            ]
          },
          "metadata": {
            "tags": []
          }
        }
      ]
    },
    {
      "cell_type": "code",
      "metadata": {
        "colab": {
          "base_uri": "https://localhost:8080/",
          "height": 49,
          "referenced_widgets": [
            "bdc5c22c924d479ca2b53153ca701c4b",
            "375b8be0c08c4da7bbf4333f42cfd40f",
            "255d273eba6f4f63b15e83b005a96cc6"
          ]
        },
        "id": "Zg3fwoUfSLBU",
        "outputId": "46f36237-70a6-494c-fca9-583ed8dc100c"
      },
      "source": [
        "#hide_output\r\n",
        "lbl_pred = widgets.Label()\r\n",
        "lbl_pred.value = f'Prediction: {pred}; Probability: {probs[pred_idx]:.04f}'\r\n",
        "lbl_pred"
      ],
      "execution_count": 33,
      "outputs": [
        {
          "output_type": "display_data",
          "data": {
            "application/vnd.jupyter.widget-view+json": {
              "model_id": "bdc5c22c924d479ca2b53153ca701c4b",
              "version_minor": 0,
              "version_major": 2
            },
            "text/plain": [
              "Label(value='Prediction: teddy; Probability: 1.0000')"
            ]
          },
          "metadata": {
            "tags": []
          }
        }
      ]
    },
    {
      "cell_type": "code",
      "metadata": {
        "colab": {
          "base_uri": "https://localhost:8080/",
          "height": 49,
          "referenced_widgets": [
            "70d366a08c794f7bbaa3c93cdd1db3f3",
            "45f1ae5f1e96402bb27740295443c5f0",
            "35e2bf7bc200449ea6590b0a8d4a82db"
          ]
        },
        "id": "aG6XujNSQfId",
        "outputId": "f7ee7d71-b6c3-4cc8-fa1d-155746fe9839"
      },
      "source": [
        "btn_run = widgets.Button(description='Classify')\r\n",
        "btn_run"
      ],
      "execution_count": 34,
      "outputs": [
        {
          "output_type": "display_data",
          "data": {
            "application/vnd.jupyter.widget-view+json": {
              "model_id": "70d366a08c794f7bbaa3c93cdd1db3f3",
              "version_minor": 0,
              "version_major": 2
            },
            "text/plain": [
              "Button(description='Classify', style=ButtonStyle())"
            ]
          },
          "metadata": {
            "tags": []
          }
        },
        {
          "output_type": "display_data",
          "data": {
            "text/html": [
              ""
            ],
            "text/plain": [
              "<IPython.core.display.HTML object>"
            ]
          },
          "metadata": {
            "tags": []
          }
        },
        {
          "output_type": "display_data",
          "data": {
            "text/html": [
              ""
            ],
            "text/plain": [
              "<IPython.core.display.HTML object>"
            ]
          },
          "metadata": {
            "tags": []
          }
        },
        {
          "output_type": "display_data",
          "data": {
            "text/html": [
              ""
            ],
            "text/plain": [
              "<IPython.core.display.HTML object>"
            ]
          },
          "metadata": {
            "tags": []
          }
        }
      ]
    },
    {
      "cell_type": "code",
      "metadata": {
        "id": "7v_o2nkLOY85"
      },
      "source": [
        "def on_click_classify(change):\r\n",
        "    img = PILImage.create(btn_upload.data[-1])\r\n",
        "    out_pl.clear_output()\r\n",
        "    with out_pl: display(img.to_thumb(128,128))\r\n",
        "    pred,pred_idx,probs = learn_inf.predict(img)\r\n",
        "    lbl_pred.value = f'Prediction: {pred}; Probability: {probs[pred_idx]:.04f}'\r\n",
        "\r\n",
        "btn_run.on_click(on_click_classify)"
      ],
      "execution_count": 35,
      "outputs": []
    },
    {
      "cell_type": "code",
      "metadata": {
        "id": "TTbKwp1fOekj"
      },
      "source": [
        "#Putting back btn_upload to a widget for next cell\r\n",
        "btn_upload = widgets.FileUpload()"
      ],
      "execution_count": 36,
      "outputs": []
    },
    {
      "cell_type": "code",
      "metadata": {
        "colab": {
          "base_uri": "https://localhost:8080/",
          "height": 273,
          "referenced_widgets": [
            "6c88b16c26e94eb3bfbc696b776bd45b",
            "c8aec4600f604488ad026831346145cc",
            "0eed50d5c74c45b0bc16d78a5f0008fe",
            "1d62de265997496e95de5c26a87f795f",
            "70d366a08c794f7bbaa3c93cdd1db3f3",
            "6f6c397c0ba448cba839dc0c94d626d5",
            "bdc5c22c924d479ca2b53153ca701c4b",
            "20e4e3f966e44f109d52817e07cdb31a",
            "4ea798ae554d494798f4dbc5b5c506c4",
            "f490798738434e419ca46ff66d30beda",
            "e1f7c3e7239146a0b348aaacb88a527f",
            "45f1ae5f1e96402bb27740295443c5f0",
            "35e2bf7bc200449ea6590b0a8d4a82db",
            "375b8be0c08c4da7bbf4333f42cfd40f",
            "255d273eba6f4f63b15e83b005a96cc6",
            "5c8709b1ff0241fb983affe428401736"
          ]
        },
        "id": "SEjWmGoeRHk0",
        "outputId": "da0d5223-8ef1-4087-eace-2e34c98d0daf"
      },
      "source": [
        "#hide_output\r\n",
        "VBox([widgets.Label('Select your bear!'), \r\n",
        "      btn_upload, btn_run, out_pl, lbl_pred])"
      ],
      "execution_count": 37,
      "outputs": [
        {
          "output_type": "display_data",
          "data": {
            "application/vnd.jupyter.widget-view+json": {
              "model_id": "6c88b16c26e94eb3bfbc696b776bd45b",
              "version_minor": 0,
              "version_major": 2
            },
            "text/plain": [
              "VBox(children=(Label(value='Select your bear!'), FileUpload(value={}, description='Upload'), Button(descriptio…"
            ]
          },
          "metadata": {
            "tags": []
          }
        },
        {
          "output_type": "display_data",
          "data": {
            "text/html": [
              ""
            ],
            "text/plain": [
              "<IPython.core.display.HTML object>"
            ]
          },
          "metadata": {
            "tags": []
          }
        }
      ]
    },
    {
      "cell_type": "code",
      "metadata": {
        "colab": {
          "base_uri": "https://localhost:8080/",
          "height": 1000
        },
        "id": "ti876txlSfK_",
        "outputId": "99bf2248-89b9-4393-d8e7-9f8426d165dd"
      },
      "source": [
        "!pip install voila\r\n",
        "!jupyter serverextension enable --sys-prefix voila "
      ],
      "execution_count": 38,
      "outputs": [
        {
          "output_type": "stream",
          "text": [
            "Collecting voila\n",
            "\u001b[?25l  Downloading https://files.pythonhosted.org/packages/50/7d/ef470f3d3c574162bb8705b264f4cb47eac8c923f6bf1e37283f871ead6a/voila-0.2.4-py3-none-any.whl (1.9MB)\n",
            "\u001b[K     |████████████████████████████████| 1.9MB 6.7MB/s \n",
            "\u001b[?25hCollecting nbconvert<7,>=6.0.0\n",
            "\u001b[?25l  Downloading https://files.pythonhosted.org/packages/13/2f/acbe7006548f3914456ee47f97a2033b1b2f3daf921b12ac94105d87c163/nbconvert-6.0.7-py3-none-any.whl (552kB)\n",
            "\u001b[K     |████████████████████████████████| 552kB 21.2MB/s \n",
            "\u001b[?25hRequirement already satisfied: nbclient<0.6,>=0.4.0 in /usr/local/lib/python3.6/dist-packages (from voila) (0.5.1)\n",
            "Collecting jupyter-server<2.0.0,>=0.3.0\n",
            "\u001b[?25l  Downloading https://files.pythonhosted.org/packages/5b/49/1f5bbdf9c5cc56a4b12616ae926860b7592317bc238b195768fd88cee71d/jupyter_server-1.1.4-py3-none-any.whl (184kB)\n",
            "\u001b[K     |████████████████████████████████| 194kB 30.0MB/s \n",
            "\u001b[?25hCollecting jupyter-client<7,>=6.1.3\n",
            "\u001b[?25l  Downloading https://files.pythonhosted.org/packages/dc/41/9fa443d5ae8907dd8f7d12146cb0092dc053afd67b5b57e7e8786a328547/jupyter_client-6.1.7-py3-none-any.whl (108kB)\n",
            "\u001b[K     |████████████████████████████████| 112kB 25.0MB/s \n",
            "\u001b[?25hRequirement already satisfied: bleach in /usr/local/lib/python3.6/dist-packages (from nbconvert<7,>=6.0.0->voila) (3.2.1)\n",
            "Requirement already satisfied: mistune<2,>=0.8.1 in /usr/local/lib/python3.6/dist-packages (from nbconvert<7,>=6.0.0->voila) (0.8.4)\n",
            "Requirement already satisfied: pygments>=2.4.1 in /usr/local/lib/python3.6/dist-packages (from nbconvert<7,>=6.0.0->voila) (2.6.1)\n",
            "Requirement already satisfied: entrypoints>=0.2.2 in /usr/local/lib/python3.6/dist-packages (from nbconvert<7,>=6.0.0->voila) (0.3)\n",
            "Requirement already satisfied: pandocfilters>=1.4.1 in /usr/local/lib/python3.6/dist-packages (from nbconvert<7,>=6.0.0->voila) (1.4.3)\n",
            "Requirement already satisfied: jupyter-core in /usr/local/lib/python3.6/dist-packages (from nbconvert<7,>=6.0.0->voila) (4.7.0)\n",
            "Requirement already satisfied: jupyterlab-pygments in /usr/local/lib/python3.6/dist-packages (from nbconvert<7,>=6.0.0->voila) (0.1.2)\n",
            "Requirement already satisfied: nbformat>=4.4 in /usr/local/lib/python3.6/dist-packages (from nbconvert<7,>=6.0.0->voila) (5.0.8)\n",
            "Requirement already satisfied: testpath in /usr/local/lib/python3.6/dist-packages (from nbconvert<7,>=6.0.0->voila) (0.4.4)\n",
            "Requirement already satisfied: traitlets>=4.2 in /usr/local/lib/python3.6/dist-packages (from nbconvert<7,>=6.0.0->voila) (4.3.3)\n",
            "Requirement already satisfied: jinja2>=2.4 in /usr/local/lib/python3.6/dist-packages (from nbconvert<7,>=6.0.0->voila) (2.11.2)\n",
            "Requirement already satisfied: defusedxml in /usr/local/lib/python3.6/dist-packages (from nbconvert<7,>=6.0.0->voila) (0.6.0)\n",
            "Requirement already satisfied: nest-asyncio in /usr/local/lib/python3.6/dist-packages (from nbclient<0.6,>=0.4.0->voila) (1.4.3)\n",
            "Requirement already satisfied: async-generator in /usr/local/lib/python3.6/dist-packages (from nbclient<0.6,>=0.4.0->voila) (1.10)\n",
            "Requirement already satisfied: ipython-genutils in /usr/local/lib/python3.6/dist-packages (from jupyter-server<2.0.0,>=0.3.0->voila) (0.2.0)\n",
            "Requirement already satisfied: pyzmq>=17 in /usr/local/lib/python3.6/dist-packages (from jupyter-server<2.0.0,>=0.3.0->voila) (20.0.0)\n",
            "Requirement already satisfied: Send2Trash in /usr/local/lib/python3.6/dist-packages (from jupyter-server<2.0.0,>=0.3.0->voila) (1.5.0)\n",
            "Requirement already satisfied: terminado>=0.8.3 in /usr/local/lib/python3.6/dist-packages (from jupyter-server<2.0.0,>=0.3.0->voila) (0.9.1)\n",
            "Collecting anyio>=2.0.2\n",
            "\u001b[?25l  Downloading https://files.pythonhosted.org/packages/d7/83/0585a2bafc0898a07f491a001520db9a7b1aaca2369f99590ff2bfe9067a/anyio-2.0.2-py3-none-any.whl (62kB)\n",
            "\u001b[K     |████████████████████████████████| 71kB 8.3MB/s \n",
            "\u001b[?25hCollecting tornado>=6.1.0\n",
            "\u001b[?25l  Downloading https://files.pythonhosted.org/packages/85/26/e710295dcb4aac62b08f22d07efc899574476db37532159a7f71713cdaf2/tornado-6.1-cp36-cp36m-manylinux2010_x86_64.whl (427kB)\n",
            "\u001b[K     |████████████████████████████████| 430kB 22.8MB/s \n",
            "\u001b[?25hRequirement already satisfied: prometheus-client in /usr/local/lib/python3.6/dist-packages (from jupyter-server<2.0.0,>=0.3.0->voila) (0.9.0)\n",
            "Requirement already satisfied: python-dateutil>=2.1 in /usr/local/lib/python3.6/dist-packages (from jupyter-client<7,>=6.1.3->voila) (2.8.1)\n",
            "Requirement already satisfied: six>=1.9.0 in /usr/local/lib/python3.6/dist-packages (from bleach->nbconvert<7,>=6.0.0->voila) (1.15.0)\n",
            "Requirement already satisfied: packaging in /usr/local/lib/python3.6/dist-packages (from bleach->nbconvert<7,>=6.0.0->voila) (20.8)\n",
            "Requirement already satisfied: webencodings in /usr/local/lib/python3.6/dist-packages (from bleach->nbconvert<7,>=6.0.0->voila) (0.5.1)\n",
            "Requirement already satisfied: jsonschema!=2.5.0,>=2.4 in /usr/local/lib/python3.6/dist-packages (from nbformat>=4.4->nbconvert<7,>=6.0.0->voila) (2.6.0)\n",
            "Requirement already satisfied: decorator in /usr/local/lib/python3.6/dist-packages (from traitlets>=4.2->nbconvert<7,>=6.0.0->voila) (4.4.2)\n",
            "Requirement already satisfied: MarkupSafe>=0.23 in /usr/local/lib/python3.6/dist-packages (from jinja2>=2.4->nbconvert<7,>=6.0.0->voila) (1.1.1)\n",
            "Requirement already satisfied: ptyprocess; os_name != \"nt\" in /usr/local/lib/python3.6/dist-packages (from terminado>=0.8.3->jupyter-server<2.0.0,>=0.3.0->voila) (0.6.0)\n",
            "Collecting sniffio>=1.1\n",
            "  Downloading https://files.pythonhosted.org/packages/52/b0/7b2e028b63d092804b6794595871f936aafa5e9322dcaaad50ebf67445b3/sniffio-1.2.0-py3-none-any.whl\n",
            "Requirement already satisfied: dataclasses; python_version < \"3.7\" in /usr/local/lib/python3.6/dist-packages (from anyio>=2.0.2->jupyter-server<2.0.0,>=0.3.0->voila) (0.8)\n",
            "Requirement already satisfied: typing-extensions; python_version < \"3.8\" in /usr/local/lib/python3.6/dist-packages (from anyio>=2.0.2->jupyter-server<2.0.0,>=0.3.0->voila) (3.7.4.3)\n",
            "Requirement already satisfied: idna>=2.8 in /usr/local/lib/python3.6/dist-packages (from anyio>=2.0.2->jupyter-server<2.0.0,>=0.3.0->voila) (2.10)\n",
            "Requirement already satisfied: pyparsing>=2.0.2 in /usr/local/lib/python3.6/dist-packages (from packaging->bleach->nbconvert<7,>=6.0.0->voila) (2.4.7)\n",
            "Collecting contextvars>=2.1; python_version < \"3.7\"\n",
            "  Downloading https://files.pythonhosted.org/packages/83/96/55b82d9f13763be9d672622e1b8106c85acb83edd7cc2fa5bc67cd9877e9/contextvars-2.4.tar.gz\n",
            "Collecting immutables>=0.9\n",
            "\u001b[?25l  Downloading https://files.pythonhosted.org/packages/99/e0/ea6fd4697120327d26773b5a84853f897a68e33d3f9376b00a8ff96e4f63/immutables-0.14-cp36-cp36m-manylinux1_x86_64.whl (98kB)\n",
            "\u001b[K     |████████████████████████████████| 102kB 8.2MB/s \n",
            "\u001b[?25hBuilding wheels for collected packages: contextvars\n",
            "  Building wheel for contextvars (setup.py) ... \u001b[?25l\u001b[?25hdone\n",
            "  Created wheel for contextvars: filename=contextvars-2.4-cp36-none-any.whl size=7667 sha256=85067ab287d478e507676cd193cc41cdd1dc2d73c8776db2c0be8a5bd7908465\n",
            "  Stored in directory: /root/.cache/pip/wheels/a5/7d/68/1ebae2668bda2228686e3c1cf16f2c2384cea6e9334ad5f6de\n",
            "Successfully built contextvars\n",
            "\u001b[31mERROR: nbdev 1.1.5 has requirement nbconvert<6, but you'll have nbconvert 6.0.7 which is incompatible.\u001b[0m\n",
            "\u001b[31mERROR: google-colab 1.0.0 has requirement tornado~=5.1.0; python_version >= \"3.0\", but you'll have tornado 6.1 which is incompatible.\u001b[0m\n",
            "Installing collected packages: nbconvert, tornado, jupyter-client, immutables, contextvars, sniffio, anyio, jupyter-server, voila\n",
            "  Found existing installation: nbconvert 5.6.1\n",
            "    Uninstalling nbconvert-5.6.1:\n",
            "      Successfully uninstalled nbconvert-5.6.1\n",
            "  Found existing installation: tornado 5.1.1\n",
            "    Uninstalling tornado-5.1.1:\n",
            "      Successfully uninstalled tornado-5.1.1\n",
            "  Found existing installation: jupyter-client 5.3.5\n",
            "    Uninstalling jupyter-client-5.3.5:\n",
            "      Successfully uninstalled jupyter-client-5.3.5\n",
            "Successfully installed anyio-2.0.2 contextvars-2.4 immutables-0.14 jupyter-client-6.1.7 jupyter-server-1.1.4 nbconvert-6.0.7 sniffio-1.2.0 tornado-6.1 voila-0.2.4\n"
          ],
          "name": "stdout"
        },
        {
          "output_type": "display_data",
          "data": {
            "application/vnd.colab-display-data+json": {
              "pip_warning": {
                "packages": [
                  "jupyter_client",
                  "nbconvert",
                  "tornado"
                ]
              }
            }
          },
          "metadata": {
            "tags": []
          }
        },
        {
          "output_type": "stream",
          "text": [
            "Enabling: voila\n",
            "- Writing config: /usr/etc/jupyter\n",
            "    - Validating...\n",
            "Error loading server extension voila\n",
            "     \u001b[31m X\u001b[0m is voila importable?\n"
          ],
          "name": "stdout"
        }
      ]
    },
    {
      "cell_type": "code",
      "metadata": {
        "id": "HSkU5VguUTKw"
      },
      "source": [
        ""
      ],
      "execution_count": null,
      "outputs": []
    }
  ]
}